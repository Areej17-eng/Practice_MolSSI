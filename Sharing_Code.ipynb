{
 "cells": [
  {
   "cell_type": "code",
   "execution_count": null,
   "id": "90a39413-e2df-4704-a824-22cc1c678ff2",
   "metadata": {},
   "outputs": [],
   "source": [
    "# Putting your code directory on GitHub\n",
    "\n",
    "# Steps I performed in this workshop:\n",
    "# 1. Get the ssh key and upload it to GitHub website. Command: cd ~/.ssh/id_ed25519.pub\n",
    "# 2. For authentication, command: ssh -T git@github.com\n",
    "# 3. To enter the directory which I want to upload to GitHub, command: cd \"Documents/Areej Academic Data/My Research/CCR and Simulation Learning/Learning Python/Learning Data/\".\n",
    "# 4. Create a new repository in GitHub online \"Practice_MolSSI.git\"\n",
    "\n",
    "# 5. To create a remote connection for data travel, command: git remote set-url origin git@github.com:Areej17-eng/Practice_MolSSI.git\n",
    "# Here you copied you local \"Learning Data\" directory contents to a new git \n",
    "\n",
    "# 6. To push the data to the GitHub repository, command: git push -u origin main\n",
    "# origin : Specifies the remote repository (default name for the remote created when cloning). \n",
    "# main : Indicates the branch in the remote repository where the changes should be pushed.\n",
    "# -u origin main: Sets origin/main as the upstream branch, so you can use git push without specifying origin main in future commands.\n",
    "\n",
    "# 7. Enter passphrase: you know what\n",
    "# As a result, your current directory will be added to GitHub.\n",
    "\n",
    "# If we have to add any additional file to GitHub, we first need to check if the files are tracked by git or not\n",
    "# using the command: git status \n",
    "# Add all the untracked files to git repository (this is different than GitHub repository) using git add . or git add file_name\n",
    "# Now to push the data to the GitHub repository, command: git push -u origin main\n"
   ]
  },
  {
   "cell_type": "code",
   "execution_count": 23,
   "id": "b2e7ea44-9cee-4b93-9179-d16194e27d90",
   "metadata": {},
   "outputs": [],
   "source": [
    "### Working With Multiple Repositories\n",
    "\n",
    "## Create a copy of your GitHub repository:\n",
    "# I was having issue because my base folder was conatining a git folder, so I used this command to remove it\n",
    "# Command: rm -rf /Users/areejnad/.git\n",
    "\n",
    "# To create a clone (exact copy) of your repository, command: $ git clone https://github.com/Areej17-eng/Practice_MolSSI.git friend\n",
    "# based on this format command:  git clone https://github.com/YOUR_GITHUB_USERNAME/YOUR_REPOSITORY_NAME.git friend \n",
    "# I uploaded my Learning Data folder to a GitHub repository named Practice_MolSSI. So my REPOSITORY_NAME.git is Practice_MolSSI.git\n",
    "# and \"friend is the new repository on GitHub.\n",
    "# An alternate command to the above is: git clone git@github.com:Areej17-eng/Practice_MolSSI.git friend\n",
    "# Now enter the newly created repository \"cd friend\" and use ls to see the copied contents\n",
    "\n",
    "# To display the remote repository URL(s) associated with the local repository, command: git remote -v\n",
    "# Using pwd, you can see: /Users/areejnad/Documents/Areej Academic Data/My Research/CCR and Simulation Learning/Learning Python/friend\n",
    "\n",
    "# Now create a new file in friend \"testing_cloning.txt\".\n",
    "# Check git status and use git add to include untracked file \"testing_cloning.txt\".\n",
    "# You can commit the change as well using: git commit -m \"added a testing_cloning.txt file to friend repository\"\n",
    "# Use git push and this file will appear in Practice_MolSSI repository.\n",
    "# When we create the file testing_cloning.txt in the \"friend\" repository and push it, it appears in our \n",
    "# original \"Practice_MolSSI\" repository on GitHub because friend is just a clone of the Practice_MolSSI repository.\n",
    "\n",
    "# Remember friend is appeared as a new repository in GitHub, but a local copy unless we create a new \n",
    "# GitHub repository (e.g., Practice_MolSSI_copy) and push all the \"friend\" data to that repository using\n",
    "# command: cd \"Documents/Areej Academic Data/My Research/CCR and Simulation Learning/Learning Python/friend\"\n",
    "# Then command: git remote set-url origin git@github.com:Areej17-eng/Practice_MolSSI_copy.git\n",
    "# But we donot wanna do that :)\n",
    "\n",
    "# By above commands, we can see the testing_cloning.txt file in \"friend\" (local repository) and \"Practice_MolSSI\" (GitHub repository)\n",
    "# If we want to donwlond this to our local \"Learning Data\" (whose content we basically shifted to \"Practice_MolSSI\") \n",
    "# we can use follow the following procedure:\n",
    "# 1. In terminal, use command: cd ../\"Learning Data\" to switch back to the original folder.\n",
    "# 2. Use command: git pull origin main (this will download the Practice_MolSSI content to Learning Data and replace overlapping one).\n",
    "\n"
   ]
  },
  {
   "cell_type": "code",
   "execution_count": null,
   "id": "b34b75ca-a92b-45f1-bb4d-e5ddccd2caab",
   "metadata": {},
   "outputs": [],
   "source": []
  }
 ],
 "metadata": {
  "kernelspec": {
   "display_name": "Python [conda env:base] *",
   "language": "python",
   "name": "conda-base-py"
  },
  "language_info": {
   "codemirror_mode": {
    "name": "ipython",
    "version": 3
   },
   "file_extension": ".py",
   "mimetype": "text/x-python",
   "name": "python",
   "nbconvert_exporter": "python",
   "pygments_lexer": "ipython3",
   "version": "3.12.7"
  }
 },
 "nbformat": 4,
 "nbformat_minor": 5
}
