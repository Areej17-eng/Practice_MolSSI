{
 "cells": [
  {
   "cell_type": "code",
   "execution_count": null,
   "id": "04ebbff7-8fc1-4952-aa12-3643fe0e5d46",
   "metadata": {},
   "outputs": [],
   "source": [
    "## Steps I performed in this workshop:\n",
    "\n",
    "# 1. Get the ssh key and upload it to GitHub website. Command: cd ~/.ssh/id_ed25519.pub\n",
    "# 2. For authentication, command: ssh -T git@github.com\n",
    "# 3. To enter the directory which I want to upload to GitHub, command: cd \"Documents/Areej Academic Data/My Research/CCR and Simulation Learning/Learning Python/Learning Data/\".\n",
    "# 4. To create a remote connection for data travel, command: git remote set-url origin git@github.com:Areej17-eng/Practice_MolSSI.git\n",
    "# 5. To push the data to the GitHub repository, command: push -u origin main\n",
    "# 6. Enter passphrase: you know what\n",
    "# As a result, your current directory will be added to GitHub.\n",
    "\n",
    "# If we have to add any additional file to GitHub, we first need to check if the files are tracked by git or not\n",
    "# using the command: git status \n",
    "# Add all the untracked files to git repository (this is different than GitHub repository)\n",
    "\n",
    "\n"
   ]
  }
 ],
 "metadata": {
  "kernelspec": {
   "display_name": "Python [conda env:base] *",
   "language": "python",
   "name": "conda-base-py"
  },
  "language_info": {
   "codemirror_mode": {
    "name": "ipython",
    "version": 3
   },
   "file_extension": ".py",
   "mimetype": "text/x-python",
   "name": "python",
   "nbconvert_exporter": "python",
   "pygments_lexer": "ipython3",
   "version": "3.12.7"
  }
 },
 "nbformat": 4,
 "nbformat_minor": 5
}
