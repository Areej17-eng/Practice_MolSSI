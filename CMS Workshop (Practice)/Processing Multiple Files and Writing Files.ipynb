{
 "cells": [
  {
   "cell_type": "code",
   "execution_count": 4,
   "id": "d92810f6-62b8-42d5-9a42-0443a1347f05",
   "metadata": {},
   "outputs": [],
   "source": [
    "## Within a library there are modules and functions which do a specific computational task.\n",
    "\n",
    "# We are going to import two libraries. One is the \"os\" library which controls functions related to \n",
    "# the operating system of your computer. We used this library in the last lesson to handle filepaths. \n",
    "# The other is the \"glob\" library which contains functions to help us analyze multiple files. "
   ]
  },
  {
   "cell_type": "code",
   "execution_count": 6,
   "id": "502bbe80-8795-46e1-95b7-68f4f1121001",
   "metadata": {},
   "outputs": [],
   "source": [
    "# In the previous module, we use os library and path.join function to search for a particular file.\n",
    "# This is good as long as we know the name of the file and deal with one file only."
   ]
  },
  {
   "cell_type": "code",
   "execution_count": 1,
   "id": "888e33bc-6b36-45aa-8fbc-245253e16054",
   "metadata": {},
   "outputs": [
    {
     "name": "stdout",
     "output_type": "stream",
     "text": [
      "CMS Workshp (MolSSI data)/outfiles/*.out\n"
     ]
    }
   ],
   "source": [
    "# In case the file name is not known, and we want to search the whole directory using os.path.join\n",
    "# through wildcard *:\n",
    "\n",
    "import os\n",
    "file_path = os.path.join('CMS Workshp (MolSSI data)' , 'outfiles' , '*.out')\n",
    "print(file_path)\n",
    "\n",
    "# We will not be able to get a list of \".out\" files and search among them. "
   ]
  },
  {
   "cell_type": "code",
   "execution_count": 15,
   "id": "11858867-f00f-4d68-8a5e-70c7cc5608e7",
   "metadata": {},
   "outputs": [
    {
     "name": "stdout",
     "output_type": "stream",
     "text": [
      "[]\n"
     ]
    }
   ],
   "source": [
    "# For this purpose, we use \"glob\" library and \"glob\" function as follows:\n",
    "\n",
    "import glob\n",
    "file_path = glob.glob('*.out')\n",
    "print(file_path)\n",
    "\n",
    "# Remember! for this operation, our jupyter working file should be in the same directory where we are \n",
    "# searching for files. Otherwise, we will get no output. "
   ]
  },
  {
   "cell_type": "code",
   "execution_count": null,
   "id": "36ced792-301f-42de-b988-a4c1ed4f8c01",
   "metadata": {},
   "outputs": [],
   "source": []
  }
 ],
 "metadata": {
  "kernelspec": {
   "display_name": "Python [conda env:base] *",
   "language": "python",
   "name": "conda-base-py"
  },
  "language_info": {
   "codemirror_mode": {
    "name": "ipython",
    "version": 3
   },
   "file_extension": ".py",
   "mimetype": "text/x-python",
   "name": "python",
   "nbconvert_exporter": "python",
   "pygments_lexer": "ipython3",
   "version": "3.12.7"
  }
 },
 "nbformat": 4,
 "nbformat_minor": 5
}
