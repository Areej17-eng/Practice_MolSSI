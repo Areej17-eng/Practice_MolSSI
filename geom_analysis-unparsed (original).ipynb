{
 "cells": [
  {
   "cell_type": "code",
   "execution_count": 4,
   "id": "fead4267-17c2-4f8a-acb4-1172ee9d81f0",
   "metadata": {},
   "outputs": [
    {
     "name": "stdout",
     "output_type": "stream",
     "text": [
      "O to H1: 0.9690005374652793\n",
      "O to H2: 0.9690003348647513\n"
     ]
    }
   ],
   "source": [
    "### Running code from the Linux Command Line ###\n",
    "\n",
    "## We will be usiing the same code that we developed in the last module.\n",
    "\n",
    "# Now let's combine all the above functions to open an xyz file and calculate bond lengths for its atoms:\n",
    "\n",
    "import os\n",
    "import numpy\n",
    "import argparse\n",
    "\n",
    "\"\"\" Function to get/open the file\"\"\"\n",
    "def open_xyz(xyz_file_path):           # \"xyz_file_path\" is just a placeholder to take the needed xyz file path \n",
    "    xyz_file = numpy.genfromtxt(fname = xyz_file_path, skip_header = 2, dtype = 'unicode')\n",
    "    molecules = xyz_file[:,0]\n",
    "    coordinates = xyz_file[:,1:]\n",
    "    coordinates = coordinates.astype(numpy.float64)\n",
    "    return molecules, coordinates\n",
    "\n",
    "\"\"\" Function to calculate the bond_len for any_xyz_file\"\"\"\n",
    "def atomic_dist(atom1_coord, atom2_coord):\n",
    "    x_distances = atom1_coord[0] - atom2_coord[0]\n",
    "    y_distances = atom1_coord[1] - atom2_coord[1]\n",
    "    z_distances = atom1_coord[2] - atom2_coord[2]\n",
    "    bond_len = numpy.sqrt(x_distances**2 + y_distances**2 + z_distances**2)\n",
    "    return bond_len\n",
    "\n",
    "\"\"\" Function to check if a distance qualifies as a bond define the max/min value for bond_len\"\"\" \n",
    "def bond_check(bond_len, min_length = 0, max_length = 1.5):\n",
    "    if bond_len > 0 and bond_len <= 1.5:\n",
    "        return True\n",
    "    else:\n",
    "        return False\n",
    "\n",
    "\"\"\" Function to call already defined \"atomic_dist\" funct for bond_length calculation using xyz file data\"\"\"\n",
    "\"\"\" This is the main script to calculate and print bond lengths \"\"\"\n",
    "# Inputs:\n",
    "water_file = os.path.join('CMS Workshp (MolSSI data)', 'water.xyz')   # This is my input for \"xyz_file\"  \n",
    "water_molecule, coordinates = open_xyz(water_file)   # This assignment makes the \"water_file\" variables available in the main script.\n",
    "\n",
    "# Main Script:\n",
    "row_num = len(coordinates[:,0])\n",
    "for i_1 in range(0, row_num):\n",
    "    for i_2 in range(0, row_num):\n",
    "        if i_1 < i_2:\n",
    "            bond_len = atomic_dist(coordinates[i_1] , coordinates[i_2])\n",
    "            if bond_check(bond_len) is True:\n",
    "                print(F'{water_molecule[i_1]} to {water_molecule[i_2]}:' , bond_len)\n",
    "                "
   ]
  },
  {
   "cell_type": "code",
   "execution_count": null,
   "id": "49829d60-5ace-4467-8559-30df915e88cd",
   "metadata": {},
   "outputs": [],
   "source": []
  }
 ],
 "metadata": {
  "kernelspec": {
   "display_name": "Python [conda env:base] *",
   "language": "python",
   "name": "conda-base-py"
  },
  "language_info": {
   "codemirror_mode": {
    "name": "ipython",
    "version": 3
   },
   "file_extension": ".py",
   "mimetype": "text/x-python",
   "name": "python",
   "nbconvert_exporter": "python",
   "pygments_lexer": "ipython3",
   "version": "3.12.7"
  }
 },
 "nbformat": 4,
 "nbformat_minor": 5
}
