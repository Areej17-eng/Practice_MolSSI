{
 "cells": [
  {
   "cell_type": "code",
   "execution_count": null,
   "id": "699aea3e-6545-473c-9c1d-c3ae3781bf57",
   "metadata": {},
   "outputs": [],
   "source": [
    "# Enter the directory in which you want to create a Git repository, command: cd \"Documents/Areej Academic Data/My Research/CCR and Simulation Learning/Learning Python/Learning Data/\".\n",
    "\n",
    "# First Initilize a git repository, command: git init\n",
    "# Check status, command: git status  You will see a list of untracked files indicating that these are not currently tracked by Git.\n",
    "# git add . command adds everything to the Git repository from your current folder.\n",
    "# Now commit the files and add a description as well, command: git commit -m \"add any description (e.g., adding initial project files)\"\n",
    "# Again check git status and you will see \"nothing to commit, working tree clean\".\n",
    "\n",
    "# For any specific file, command: git add geometry_analysis.ipynb\n",
    "# Then commit the change, command: git commit -m \"added docstring to geometry_analysis.ipynb\"\n",
    "# \n",
    "\n"
   ]
  }
 ],
 "metadata": {
  "kernelspec": {
   "display_name": "Python [conda env:base] *",
   "language": "python",
   "name": "conda-base-py"
  },
  "language_info": {
   "codemirror_mode": {
    "name": "ipython",
    "version": 3
   },
   "file_extension": ".py",
   "mimetype": "text/x-python",
   "name": "python",
   "nbconvert_exporter": "python",
   "pygments_lexer": "ipython3",
   "version": "3.12.7"
  }
 },
 "nbformat": 4,
 "nbformat_minor": 5
}
