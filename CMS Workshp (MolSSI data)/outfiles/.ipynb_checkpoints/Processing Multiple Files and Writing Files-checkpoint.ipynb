{
 "cells": [
  {
   "cell_type": "code",
   "execution_count": 4,
   "id": "d92810f6-62b8-42d5-9a42-0443a1347f05",
   "metadata": {},
   "outputs": [],
   "source": [
    "## Within a library there are modules and functions which do a specific computational task.\n",
    "\n",
    "# We are going to import two libraries. One is the \"os\" library which controls functions related to \n",
    "# the operating system of your computer. We used this library in the last lesson to handle filepaths. \n",
    "# The other is the \"glob\" library which contains functions to help us analyze multiple files. "
   ]
  },
  {
   "cell_type": "code",
   "execution_count": 6,
   "id": "502bbe80-8795-46e1-95b7-68f4f1121001",
   "metadata": {},
   "outputs": [],
   "source": [
    "# In the previous module, we use os library and path.join function to search for a particular file.\n",
    "# This is good as long as we know the name of the file and deal with one file only."
   ]
  },
  {
   "cell_type": "code",
   "execution_count": 70,
   "id": "888e33bc-6b36-45aa-8fbc-245253e16054",
   "metadata": {},
   "outputs": [
    {
     "name": "stdout",
     "output_type": "stream",
     "text": [
      "CMS Workshp (MolSSI data)/outfiles/*.out\n"
     ]
    }
   ],
   "source": [
    "# In case the file name is not known, and we want to search the whole directory using os.path.join\n",
    "# through wildcard *:\n",
    "\n",
    "import os\n",
    "os_file_path = os.path.join('CMS Workshp (MolSSI data)' , 'outfiles' , '*.out')\n",
    "print(os_file_path)\n",
    "\n",
    "# We will not be able to get a list of \".out\" files and search among them. "
   ]
  },
  {
   "cell_type": "code",
   "execution_count": 76,
   "id": "11858867-f00f-4d68-8a5e-70c7cc5608e7",
   "metadata": {},
   "outputs": [
    {
     "name": "stdout",
     "output_type": "stream",
     "text": [
      "['propanol.out', 'pentanol.out', 'decanol.out', 'methanol.out', 'octanol.out', 'ethanol.out', 'hexanol.out', 'heptanol.out', 'butanol.out', 'nonanol.out']\n"
     ]
    }
   ],
   "source": [
    "# For this purpose, we use \"glob\" library and \"glob\" function as follows:\n",
    "\n",
    "# import os\n",
    "# os_file_path = os.path.join('CMS Workshp (MolSSI data)' , 'outfiles' , '*.out')\n",
    "\n",
    "# import glob\n",
    "# glob_file_path = glob.glob(os_file_path)\n",
    "# print(glob_file_path)\n",
    "\n",
    "import glob\n",
    "glob_file_path = glob.glob('*.out')\n",
    "print(glob_file_path)\n",
    "\n",
    "# Remember! for this operation, our jupyter working file should be in the same directory where we are \n",
    "# searching for files. Otherwise, we will get no output. "
   ]
  },
  {
   "cell_type": "code",
   "execution_count": 40,
   "id": "36ced792-301f-42de-b988-a4c1ed4f8c01",
   "metadata": {},
   "outputs": [
    {
     "name": "stdout",
     "output_type": "stream",
     "text": [
      "-193.12836249728798\n",
      "-271.20138119895074\n",
      "-466.38362414000858\n",
      "-115.04800861868374\n",
      "-388.31108645547431\n",
      "-154.09130176573018\n",
      "-310.23853322516328\n",
      "-349.27397687072676\n",
      "-232.16557983472831\n",
      "-427.34651800828152\n"
     ]
    }
   ],
   "source": [
    "# Just like previously, we used to define a file path and open the file using with \n",
    "# open command, we are gonna use another command here instead of file path.\n",
    "\n",
    "import glob\n",
    "file_path = glob.glob('*.out')            # file_path contains a list of all files \n",
    "\n",
    "for files in file_path:\n",
    "    with open (files , \"r\") as outfile:\n",
    "        data = outfile.readlines()\n",
    "        for line in data:\n",
    "            if \"Final Energy\" in line:\n",
    "                energy_line = line\n",
    "                # print(energy_line)\n",
    "                energy_words = energy_line.split()\n",
    "                print(energy_words[3])"
   ]
  },
  {
   "cell_type": "code",
   "execution_count": 46,
   "id": "0e4cc288-800f-4063-9bb9-61c8af86bdb9",
   "metadata": {},
   "outputs": [
    {
     "name": "stdout",
     "output_type": "stream",
     "text": [
      "propanol.out\n"
     ]
    },
    {
     "ename": "NameError",
     "evalue": "name 'os' is not defined",
     "output_type": "error",
     "traceback": [
      "\u001b[0;31m---------------------------------------------------------------------------\u001b[0m",
      "\u001b[0;31mNameError\u001b[0m                                 Traceback (most recent call last)",
      "Cell \u001b[0;32mIn[46], line 9\u001b[0m\n\u001b[1;32m      6\u001b[0m first_file \u001b[38;5;241m=\u001b[39m file_path[\u001b[38;5;241m0\u001b[39m]\n\u001b[1;32m      7\u001b[0m \u001b[38;5;28mprint\u001b[39m(first_file)\n\u001b[0;32m----> 9\u001b[0m file_name \u001b[38;5;241m=\u001b[39m os\u001b[38;5;241m.\u001b[39mpath\u001b[38;5;241m.\u001b[39mbasename(first_file)\n\u001b[1;32m     10\u001b[0m \u001b[38;5;28mprint\u001b[39m(file_name)\n",
      "\u001b[0;31mNameError\u001b[0m: name 'os' is not defined"
     ]
    }
   ],
   "source": [
    "# To get the file names along with their energy data, we can use the following code:\n",
    "\n",
    "# first_file = file_path[0]\n",
    "# print(first_file)\n",
    "\n",
    "first_file = file_path[0]\n",
    "print(first_file)\n",
    "\n",
    "file_name = os.path.basename(first_file)\n",
    "print(file_name)"
   ]
  },
  {
   "cell_type": "code",
   "execution_count": null,
   "id": "bbb37c03-6f4d-489c-8de6-6abd1785914a",
   "metadata": {},
   "outputs": [],
   "source": []
  }
 ],
 "metadata": {
  "kernelspec": {
   "display_name": "Python [conda env:base] *",
   "language": "python",
   "name": "conda-base-py"
  },
  "language_info": {
   "codemirror_mode": {
    "name": "ipython",
    "version": 3
   },
   "file_extension": ".py",
   "mimetype": "text/x-python",
   "name": "python",
   "nbconvert_exporter": "python",
   "pygments_lexer": "ipython3",
   "version": "3.12.7"
  }
 },
 "nbformat": 4,
 "nbformat_minor": 5
}
