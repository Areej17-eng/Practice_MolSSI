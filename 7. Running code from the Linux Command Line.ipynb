{
 "cells": [
  {
   "cell_type": "code",
   "execution_count": 8,
   "id": "d153c05b-ee46-4597-a29d-bba6c9247d97",
   "metadata": {},
   "outputs": [
    {
     "name": "stderr",
     "output_type": "stream",
     "text": [
      "usage: ipykernel_launcher.py [-h] [--min_bond_len MIN_BOND_LEN]\n",
      "                             [--max_bond_len MAX_BOND_LEN]\n",
      "                             xyz_file\n",
      "ipykernel_launcher.py: error: unrecognized arguments: -f\n"
     ]
    },
    {
     "ename": "SystemExit",
     "evalue": "2",
     "output_type": "error",
     "traceback": [
      "An exception has occurred, use %tb to see the full traceback.\n",
      "\u001b[0;31mSystemExit\u001b[0m\u001b[0;31m:\u001b[0m 2\n"
     ]
    },
    {
     "name": "stderr",
     "output_type": "stream",
     "text": [
      "/Users/areejnad/anaconda3/lib/python3.12/site-packages/IPython/core/interactiveshell.py:3585: UserWarning: To exit: use 'exit', 'quit', or Ctrl-D.\n",
      "  warn(\"To exit: use 'exit', 'quit', or Ctrl-D.\", stacklevel=1)\n"
     ]
    }
   ],
   "source": [
    "# For this homework assignment, we will use the Bon Length code from assignment and create another Jupyter\n",
    "# Notebook \"geom_analysis.ipynb\". Refer to this file for further details about the assignment.\n",
    "# We will modify this using argparse to run in terminal.\n",
    "\n",
    "# The code is also available below:\n",
    "\n",
    "import os\n",
    "import numpy\n",
    "import argparse\n",
    "\n",
    "\"\"\" Function to get/open the file\"\"\"\n",
    "def open_xyz(xyz_file_path):           # \"xyz_file_path\" is just a placeholder to take the needed xyz file path \n",
    "    xyz_file = numpy.genfromtxt(fname = xyz_file_path, skip_header = 2, dtype = 'unicode')\n",
    "    molecules = xyz_file[:,0]\n",
    "    coordinates = xyz_file[:,1:]\n",
    "    coordinates = coordinates.astype(numpy.float64)\n",
    "    return molecules, coordinates\n",
    "\n",
    "\"\"\" Function to calculate the bond_len for any_xyz_file\"\"\"\n",
    "def atomic_dist(atom1_coord, atom2_coord):\n",
    "    x_distances = atom1_coord[0] - atom2_coord[0]\n",
    "    y_distances = atom1_coord[1] - atom2_coord[1]\n",
    "    z_distances = atom1_coord[2] - atom2_coord[2]\n",
    "    bond_len = numpy.sqrt(x_distances**2 + y_distances**2 + z_distances**2)\n",
    "    return bond_len\n",
    "\n",
    "\"\"\" Function to check if a distance qualifies as a bond define the max/min value for bond_len\"\"\" \n",
    "def bond_check(bond_len, min_length = 0, max_length = 1.5):\n",
    "    if bond_len > min_length and bond_len <= max_length:\n",
    "        return True\n",
    "    else:\n",
    "        return False\n",
    "\n",
    "\"\"\" Function to call already defined \"atomic_dist\" funct for bond_length calculation using xyz file data\"\"\"\n",
    "\"\"\" This is the main script to calculate and print bond lengths \"\"\"\n",
    "# This time, we will use argument parse commands to run any xyz file from the terminal.\n",
    "if __name__ == \"__main__\":\n",
    "    # Initialize argparse\n",
    "    parser = argparse.ArgumentParser(description=\"This script analyzes a user given xyz file and outputs the length of the bonds.\")\n",
    "    # Generate argument for xyz file\n",
    "    parser.add_argument(\"xyz_file\", help=\"The filepath for the xyz file to analyze.\") # Here xyz_file is the argument name (can be any name)\n",
    "    # Generate argument for min_bond length\n",
    "    parser.add_argument(\"--min_bond_len\", help=\"The minimum distance to consider atoms bonded.\", type=float, default=0) # Here min_bond_len is the argument name (-- means optional)\n",
    "    # Generate argument for max_bond length\n",
    "    parser.add_argument(\"--max_bond_len\", help=\"The maximum distance to consider atoms bonded.\", type=float, default=1.5) # Here max_bond_len is the argument name (-- means optional)\n",
    "    args = parser.parse_args()\n",
    "    \n",
    "    xyz_file = args.xyz_file\n",
    "    min_bond_len = args.min_bond_len\n",
    "    max_bond_len = args.max_bond_len\n",
    "\n",
    "    molecules , coordinates = open_xyz(xyz_file)\n",
    "\n",
    "    # We add another argparse to allow user specification of min bond length\n",
    "    \n",
    "    # Main Script:\n",
    "    row_num = len(coordinates[:,0])\n",
    "    for i_1 in range(0, row_num):\n",
    "        for i_2 in range(0, row_num):\n",
    "            if i_1 < i_2:\n",
    "                bond_len = atomic_dist(coordinates[i_1] , coordinates[i_2])\n",
    "                if bond_check(bond_len, min_bond_len, max_bond_len) is True:\n",
    "                    print(F'{molecules[i_1]} to {molecules[i_2]}:' , bond_len)\n",
    "\n"
   ]
  },
  {
   "cell_type": "code",
   "execution_count": 6,
   "id": "365dd235-293d-43a6-9d52-27ea884689ea",
   "metadata": {},
   "outputs": [
    {
     "ename": "NameError",
     "evalue": "name 'os' is not defined",
     "output_type": "error",
     "traceback": [
      "\u001b[0;31m---------------------------------------------------------------------------\u001b[0m",
      "\u001b[0;31mNameError\u001b[0m                                 Traceback (most recent call last)",
      "Cell \u001b[0;32mIn[6], line 10\u001b[0m\n\u001b[1;32m      1\u001b[0m \u001b[38;5;66;03m# For this homework assignment, we will use the code from \"Processing Multiple Files and Writing Files\" \u001b[39;00m\n\u001b[1;32m      2\u001b[0m \u001b[38;5;66;03m# where we processed the file 03_Prod.mdout. Modify this using argparse to run in terminal\u001b[39;00m\n\u001b[1;32m      3\u001b[0m \n\u001b[1;32m      4\u001b[0m \u001b[38;5;66;03m# Let us do an assignment now to find the total energy from 03_Prod.mdout file.\u001b[39;00m\n\u001b[1;32m      5\u001b[0m \n\u001b[1;32m      6\u001b[0m \u001b[38;5;66;03m# Create a .txt file:\u001b[39;00m\n\u001b[1;32m      7\u001b[0m \u001b[38;5;28;01mwith\u001b[39;00m \u001b[38;5;28mopen\u001b[39m (\u001b[38;5;124m'\u001b[39m\u001b[38;5;124mEtot.txt\u001b[39m\u001b[38;5;124m'\u001b[39m , \u001b[38;5;124m'\u001b[39m\u001b[38;5;124mw+\u001b[39m\u001b[38;5;124m'\u001b[39m) \u001b[38;5;28;01mas\u001b[39;00m Etot_txt_file:\n\u001b[1;32m      8\u001b[0m \n\u001b[1;32m      9\u001b[0m \u001b[38;5;66;03m# Define the file path:\u001b[39;00m\n\u001b[0;32m---> 10\u001b[0m     os_file_path \u001b[38;5;241m=\u001b[39m os\u001b[38;5;241m.\u001b[39mpath\u001b[38;5;241m.\u001b[39mjoin(\u001b[38;5;124m'\u001b[39m\u001b[38;5;124mCMS Workshp (MolSSI data)\u001b[39m\u001b[38;5;124m'\u001b[39m , \u001b[38;5;124m'\u001b[39m\u001b[38;5;124m03_Prod.mdout\u001b[39m\u001b[38;5;124m'\u001b[39m)\n\u001b[1;32m     11\u001b[0m     \u001b[38;5;28mprint\u001b[39m(os_file_path)\n\u001b[1;32m     13\u001b[0m \u001b[38;5;66;03m# Remember that in the previous example, we used 2 for loops as we were processing \u001b[39;00m\n\u001b[1;32m     14\u001b[0m \u001b[38;5;66;03m# multiple files in a directory. Here, we don't need that as there is only one file to process\u001b[39;00m\n",
      "\u001b[0;31mNameError\u001b[0m: name 'os' is not defined"
     ]
    }
   ],
   "source": [
    "# For this homework assignment, we will use the code from \"Processing Multiple Files and Writing Files\" \n",
    "# where we processed the file \"03_Prod.mdout\". We will create another Jupyter \"analyze_mdout.ipynb\". \n",
    "# Refer to this file for further details about the assignment.\n",
    "\n",
    "# We will modify this using argparse to run in terminal.\n",
    "\n",
    "\n",
    "# create another Jupyter\n",
    "# Notebook \"geom_analysis.ipynb\". Refer to this file for further details about the assignment.\n",
    "\n",
    "# Let us do an assignment now to find the total energy from 03_Prod.mdout file.\n",
    "\n",
    "# Create a .txt file:\n",
    "with open ('Etot.txt' , 'w+') as Etot_txt_file:\n",
    "\n",
    "# Define the file path:\n",
    "    os_file_path = os.path.join('CMS Workshp (MolSSI data)' , '03_Prod.mdout')\n",
    "    print(os_file_path)\n",
    "\n",
    "# Remember that in the previous example, we used 2 for loops as we were processing \n",
    "# multiple files in a directory. Here, we don't need that as there is only one file to process\n",
    "    with open (os_file_path , 'r') as outfile:\n",
    "        data = outfile.readlines()\n",
    "        for line in data:\n",
    "            if \"Etot\" in line:\n",
    "                Etot_line = line\n",
    "                #print(Etot_line)\n",
    "                split_Etot_line = Etot_line.split()\n",
    "                Etot_value = split_Etot_line[2]\n",
    "                print(Etot_value)\n",
    "                Etot_txt_file.write(F'The total energy value is {Etot_value} \\n')\n",
    "Etot_txt_file.close()\n",
    "\n"
   ]
  },
  {
   "cell_type": "code",
   "execution_count": null,
   "id": "7e166a89-ecb5-48f7-9158-6a1708058fa4",
   "metadata": {},
   "outputs": [],
   "source": []
  }
 ],
 "metadata": {
  "kernelspec": {
   "display_name": "Python [conda env:base] *",
   "language": "python",
   "name": "conda-base-py"
  },
  "language_info": {
   "codemirror_mode": {
    "name": "ipython",
    "version": 3
   },
   "file_extension": ".py",
   "mimetype": "text/x-python",
   "name": "python",
   "nbconvert_exporter": "python",
   "pygments_lexer": "ipython3",
   "version": "3.12.7"
  }
 },
 "nbformat": 4,
 "nbformat_minor": 5
}
