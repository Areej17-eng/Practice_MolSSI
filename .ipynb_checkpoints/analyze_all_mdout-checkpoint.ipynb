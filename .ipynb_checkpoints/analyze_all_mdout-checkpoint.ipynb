{
 "cells": [
  {
   "cell_type": "code",
   "execution_count": 67,
   "id": "6d11c851-f749-4a41-aab8-1a7d3575130d",
   "metadata": {},
   "outputs": [
    {
     "name": "stderr",
     "output_type": "stream",
     "text": [
      "usage: ipykernel_launcher.py [-h] all_mdout_files [all_mdout_files ...]\n",
      "ipykernel_launcher.py: error: unrecognized arguments: -f\n"
     ]
    },
    {
     "ename": "SystemExit",
     "evalue": "2",
     "output_type": "error",
     "traceback": [
      "An exception has occurred, use %tb to see the full traceback.\n",
      "\u001b[0;31mSystemExit\u001b[0m\u001b[0;31m:\u001b[0m 2\n"
     ]
    }
   ],
   "source": [
    "### Running code from the Linux Command Line ###\n",
    "\n",
    "# For this homework assignment, we will use the code from \"Processing Multiple Files and Writing Files\" \n",
    "# where we processed the file \"03_Prod.mdout\". We will create another Jupyter \"analyze_mdout.ipynb\". \n",
    "# Refer to this file for further details about the assignment.\n",
    "# We will modify this using argparse to run in terminal.\n",
    "\n",
    "## My Code ##\n",
    "# Let us do an assignment now to find the total energy from any user defined *.mdout file (wild card).\n",
    "\n",
    "import os\n",
    "import glob                         # Import glob to handle wildcard patterns\n",
    "import argparse\n",
    "\n",
    "def open_mdout(mdout_file_path):    # \"mdout_file_path\" is just a placeholder to take the needed xyz file path\n",
    "\n",
    "    \n",
    "    # Create a .txt file to store Etot data (to have a variable file name, we use basename function):\n",
    "    filename = os.path.basename(mdout_file_path)\n",
    "    split_filename = filename.split('.')\n",
    "    mdout_filename = split_filename[0]\n",
    "    with open (F'*{mdout_filename}_Etot_file.txt' , 'w+') as Etot_txt_file:  # This line create a txt file\n",
    "    \n",
    "    # open the mdout file to get Etot data:\n",
    "        with open (mdout_file_path , 'r') as outfile:    # \"mdout_file_path\" is user defined file path in terminal \n",
    "            data = outfile.readlines()\n",
    "            for line in data:\n",
    "                if \"Etot\" in line:\n",
    "                    Etot_line = line\n",
    "                    #print(Etot_line)\n",
    "                    split_Etot_line = Etot_line.split()\n",
    "                    Etot_value = float(split_Etot_line[2])\n",
    "                    print(Etot_value)\n",
    "                    Etot_txt_file.write(F'The total energy value is {Etot_value} \\n')\n",
    "                        \n",
    "\n",
    "if __name__ == \"__main__\":\n",
    "    # Initialize argparse\n",
    "    parser = argparse.ArgumentParser(description = \"The script analyzes a user given mdout file and outputs Etot.\")\n",
    "    \n",
    "    # Generate argument and add an argument \"all_mdout_files\" to the parser (Add \"nargs\" to allow multiple files)\n",
    "    parser.add_argument(\"all_mdout_files\", nargs=\"+\", help=\"The file paths to multiple mdout files\")  # \"all_mdout_files\" is the argument I will provide in terminal while running the code e.g., \"CMS Workshp (MolSSI data)\"*.mdout.\n",
    "    \n",
    "    args = parser.parse_args()              # Parses (analyzes) the argument and stores it in the \"args\" object.\n",
    "    all_mdout_files = args.all_mdout_files  # Extracts the information from \"all_mdout_files\"\n",
    "    print(all_mdout_files)                  # \"all_mdout_files\" is a list containing multiple mdout files \n",
    "    \n",
    "    for mdout_file in all_mdout_files:\n",
    "        # To call a function, I need input\n",
    "        open_mdout(mdout_file)     # It calls the open_mdout function, passing the current file path as an argument. This processes the file and extracts Etot values.\n",
    "        print(mdout_file)\n",
    "\n",
    "# While calling the function in the terminal, we define \"all_mdout_files\" (our argument) as \"CMS Workshp (MolSSI data)\"/*.mdout\n",
    "# That is why when we say print(all_mdout_files), it prints *.mdout file in the \"CMS Workshp (MolSSI data)\" directory\n",
    "\n",
    "\n",
    "## To use this code on terminal ##\n",
    "# Convert ipynb file to py using: jupyter nbconvert --to script analyze_all_mdout.ipynb\n",
    "# Use this command to execute: python analyze_all_mdout.py \"CMS Workshp (MolSSI data)\"/*.mdout\n",
    "\n",
    "# Use this command to enter the directory: cd /Users/areejnad/Documents/Areej\\ Academic\\ Data/My\\ Research/CCR\\ and\\ Simulation\\ Learning/Learning\\ Python/Learning\\ Data/\n",
    "# Use this command to check the files: ls \"CMS Workshp (MolSSI data)\"/*.mdout      (notice the quotes location here)\n",
    "# Or use this command to execute: python analyze_all_mdout.py CMS\\ Workshp\\ \\(MolSSI\\ data\\)/*.mdout\n"
   ]
  },
  {
   "cell_type": "code",
   "execution_count": 7,
   "id": "f8fb13b9-dd3b-445b-9f8f-360173a6ce96",
   "metadata": {},
   "outputs": [],
   "source": [
    "## Original Code (Previously written by me) ##\n",
    "# Let us do an assignment now to find the total energy from 03_Prod.mdout file.\n",
    "\n",
    "# # Create a .txt file:\n",
    "# with open ('Etot.txt' , 'w+') as Etot_txt_file:\n",
    "\n",
    "# # Define the file path:\n",
    "#     os_file_path = os.path.join('CMS Workshp (MolSSI data)' , '03_Prod.mdout')\n",
    "#     print(os_file_path)\n",
    "\n",
    "# # Remember that in the previous example, we used 2 for loops as we were processing \n",
    "# # multiple files in a directory. Here, we don't need that as there is only one file to process\n",
    "#     with open (os_file_path , 'r') as outfile:\n",
    "#         data = outfile.readlines()\n",
    "#         for line in data:\n",
    "#             if \"Etot\" in line:\n",
    "#                 Etot_line = line\n",
    "#                 #print(Etot_line)\n",
    "#                 split_Etot_line = Etot_line.split()\n",
    "#                 Etot_value = split_Etot_line[2]\n",
    "#                 print(Etot_value)\n",
    "#                 Etot_txt_file.write(F'The total energy value is {Etot_value} \\n')\n",
    "# Etot_txt_file.close()\n"
   ]
  },
  {
   "cell_type": "code",
   "execution_count": 33,
   "id": "535d5750-c435-4ca1-9dc4-85795e11e284",
   "metadata": {},
   "outputs": [
    {
     "name": "stderr",
     "output_type": "stream",
     "text": [
      "usage: ipykernel_launcher.py [-h] mdout_files [mdout_files ...]\n",
      "ipykernel_launcher.py: error: unrecognized arguments: -f\n"
     ]
    },
    {
     "ename": "SystemExit",
     "evalue": "2",
     "output_type": "error",
     "traceback": [
      "An exception has occurred, use %tb to see the full traceback.\n",
      "\u001b[0;31mSystemExit\u001b[0m\u001b[0;31m:\u001b[0m 2\n"
     ]
    }
   ],
   "source": [
    "# import os\n",
    "# import glob                         # Import glob to handle wildcard patterns\n",
    "# import argparse\n",
    "\n",
    "# def open_mdout(mdout_file_path):\n",
    "#     # Extract filename and create the output file\n",
    "#     filename = os.path.basename(mdout_file_path)\n",
    "#     split_filename = filename.split('.')\n",
    "#     mdout_filename = split_filename[0]\n",
    "#     with open(f\"{mdout_filename}_Etot_file.txt\", 'w') as Etot_txt_file:\n",
    "#         with open(mdout_file_path, 'r') as outfile:\n",
    "#             data = outfile.readlines()\n",
    "#             for line in data:\n",
    "#                 if \"Etot\" in line:\n",
    "#                     print(\"DEBUG: Found line ->\", line)  # Add this to inspect the line\n",
    "#                     split_Etot_line = line.split()\n",
    "#                     print(\"DEBUG: Split line ->\", split_Etot_line)  # Add this to inspect the split content\n",
    "#                     Etot_value = float(split_Etot_line[2])\n",
    "#                     Etot_txt_file.write(f\"The total energy value is {Etot_value}\\n\")\n",
    "\n",
    "# if __name__ == \"__main__\":\n",
    "#     # Allow multiple file paths\n",
    "#     parser = argparse.ArgumentParser(description=\"The script analyzes one or more mdout files and outputs Etot.\")\n",
    "#     parser.add_argument(\"mdout_files\", nargs=\"+\", help=\"Paths to one or more mdout files (use glob pattern for multiple files).\")\n",
    "#     args = parser.parse_args()\n",
    "\n",
    "#     # Iterate through the provided files\n",
    "#     for mdout_file in args.mdout_files:\n",
    "#         open_mdout(mdout_file)\n"
   ]
  },
  {
   "cell_type": "code",
   "execution_count": null,
   "id": "4864c959-902b-48d2-a363-9734141228d5",
   "metadata": {},
   "outputs": [],
   "source": []
  }
 ],
 "metadata": {
  "kernelspec": {
   "display_name": "Python [conda env:base] *",
   "language": "python",
   "name": "conda-base-py"
  },
  "language_info": {
   "codemirror_mode": {
    "name": "ipython",
    "version": 3
   },
   "file_extension": ".py",
   "mimetype": "text/x-python",
   "name": "python",
   "nbconvert_exporter": "python",
   "pygments_lexer": "ipython3",
   "version": "3.12.7"
  }
 },
 "nbformat": 4,
 "nbformat_minor": 5
}
