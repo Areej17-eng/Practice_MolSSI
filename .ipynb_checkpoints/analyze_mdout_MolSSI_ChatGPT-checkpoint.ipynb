{
 "cells": [
  {
   "cell_type": "code",
   "execution_count": 18,
   "id": "a8177f95-fa51-4888-af02-ddbcce1999c1",
   "metadata": {},
   "outputs": [
    {
     "ename": "IndentationError",
     "evalue": "unindent does not match any outer indentation level (<string>, line 44)",
     "output_type": "error",
     "traceback": [
      "\u001b[0;36m  File \u001b[0;32m<string>:44\u001b[0;36m\u001b[0m\n\u001b[0;31m    outfile.close()\u001b[0m\n\u001b[0m                   ^\u001b[0m\n\u001b[0;31mIndentationError\u001b[0m\u001b[0;31m:\u001b[0m unindent does not match any outer indentation level\n"
     ]
    }
   ],
   "source": [
    "### Running code from the Linux Command Line ###\n",
    "\n",
    "## MolSSI\n",
    "\n",
    "import os\n",
    "import glob\n",
    "import argparse\n",
    "\n",
    "\n",
    "if __name__ == \"__main__\":\n",
    "\n",
    "    # Create the argument parser\n",
    "    parser = argparse.ArgumentParser(\"This script parses amber mdout files to extract the total energy.\")\n",
    "    parser.add_argument(\"path\", help=\"The filepath to the file(s) to be analyzed.\")\n",
    "\n",
    "    args = parser.parse_args()\n",
    "    filename = args.path\n",
    "\n",
    "    # Read the data from the specified file.\n",
    "    f = open(filename)\n",
    "    data = f.readlines()\n",
    "    f.close()\n",
    "\n",
    "    # Figure out the file name for writing the output.\n",
    "    fname = os.path.basename(args.path).split('.')[0]\n",
    "\n",
    "    etot = []\n",
    "    # Loop through the lines\n",
    "    for line in data:\n",
    "        split_line = line.split()\n",
    "        if 'Etot' in line:\n",
    "            etot.append(float(split_line[2]))\n",
    "\n",
    "    # Get rid of values we don't need.\n",
    "    values = etot[:-2]\n",
    "    \n",
    "    # Open a file for writing\n",
    "    outfile_location = F'{fname}_Etot.txt'\n",
    "    outfile = open(outfile_location, 'w+')\n",
    "\n",
    "    for value in values:\n",
    "        outfile.write(f'{value}\\n')\n",
    "\n",
    "   outfile.close()"
   ]
  },
  {
   "cell_type": "code",
   "execution_count": 11,
   "id": "c5a0c5ba-fa70-42be-b3c1-6b45d5d60a3c",
   "metadata": {},
   "outputs": [],
   "source": [
    "## ChatGPT\n",
    "\n",
    "import os\n",
    "\n",
    "\"\"\" Function to extract Etot values from a user-defined mdout file \"\"\"\n",
    "def extract_etot(mdout_file_path):\n",
    "    \"\"\"\n",
    "    Reads an mdout file, extracts total energy (Etot) values, \n",
    "    and writes them to a file named 'Etot.txt'.\n",
    "    \"\"\"\n",
    "    # Define the output file\n",
    "    output_file_path = \"Etot.txt\"\n",
    "\n",
    "    # Open the mdout file for reading\n",
    "    with open(mdout_file_path, 'r') as mdout_file:\n",
    "        data = mdout_file.readlines()  # Read all lines from the mdout file\n",
    "\n",
    "    # Open the output file for writing\n",
    "    with open(output_file_path, 'w+') as etot_txt_file:\n",
    "        for line in data:  # Iterate through each line of the file\n",
    "            if \"Etot\" in line:  # Check if the line contains the string \"Etot\"\n",
    "                split_line = line.split()  # Split the line into parts\n",
    "                etot_value = split_line[2]  # Extract the third element (Etot value)\n",
    "                print(f\"Etot found: {etot_value}\")  # Print the Etot value\n",
    "                etot_txt_file.write(f'The total energy value is {etot_value} \\n')  # Write to the file\n"
   ]
  },
  {
   "cell_type": "code",
   "execution_count": null,
   "id": "a76cd563-8860-419c-b46b-57ea63356990",
   "metadata": {},
   "outputs": [],
   "source": []
  }
 ],
 "metadata": {
  "kernelspec": {
   "display_name": "Python [conda env:base] *",
   "language": "python",
   "name": "conda-base-py"
  },
  "language_info": {
   "codemirror_mode": {
    "name": "ipython",
    "version": 3
   },
   "file_extension": ".py",
   "mimetype": "text/x-python",
   "name": "python",
   "nbconvert_exporter": "python",
   "pygments_lexer": "ipython3",
   "version": "3.12.7"
  }
 },
 "nbformat": 4,
 "nbformat_minor": 5
}
