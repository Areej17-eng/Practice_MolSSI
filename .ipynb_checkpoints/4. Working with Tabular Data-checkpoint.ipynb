{
 "cells": [
  {
   "cell_type": "code",
   "execution_count": 4,
   "id": "76f50a87-58ab-4900-ab66-6d35eef6cf81",
   "metadata": {},
   "outputs": [
    {
     "name": "stdout",
     "output_type": "stream",
     "text": [
      "Help on function genfromtxt in module numpy:\n",
      "\n",
      "genfromtxt(fname, dtype=<class 'float'>, comments='#', delimiter=None, skip_header=0, skip_footer=0, converters=None, missing_values=None, filling_values=None, usecols=None, names=None, excludelist=None, deletechars=\" !#$%&'()*+,-./:;<=>?@[\\\\]^{|}~\", replace_space='_', autostrip=False, case_sensitive=True, defaultfmt='f%i', unpack=None, usemask=False, loose=True, invalid_raise=True, max_rows=None, encoding='bytes', *, ndmin=0, like=None)\n",
      "    Load data from a text file, with missing values handled as specified.\n",
      "\n",
      "    Each line past the first `skip_header` lines is split at the `delimiter`\n",
      "    character, and characters following the `comments` character are discarded.\n",
      "\n",
      "    Parameters\n",
      "    ----------\n",
      "    fname : file, str, pathlib.Path, list of str, generator\n",
      "        File, filename, list, or generator to read.  If the filename\n",
      "        extension is ``.gz`` or ``.bz2``, the file is first decompressed. Note\n",
      "        that generators must return bytes or strings. The strings\n",
      "        in a list or produced by a generator are treated as lines.\n",
      "    dtype : dtype, optional\n",
      "        Data type of the resulting array.\n",
      "        If None, the dtypes will be determined by the contents of each\n",
      "        column, individually.\n",
      "    comments : str, optional\n",
      "        The character used to indicate the start of a comment.\n",
      "        All the characters occurring on a line after a comment are discarded.\n",
      "    delimiter : str, int, or sequence, optional\n",
      "        The string used to separate values.  By default, any consecutive\n",
      "        whitespaces act as delimiter.  An integer or sequence of integers\n",
      "        can also be provided as width(s) of each field.\n",
      "    skiprows : int, optional\n",
      "        `skiprows` was removed in numpy 1.10. Please use `skip_header` instead.\n",
      "    skip_header : int, optional\n",
      "        The number of lines to skip at the beginning of the file.\n",
      "    skip_footer : int, optional\n",
      "        The number of lines to skip at the end of the file.\n",
      "    converters : variable, optional\n",
      "        The set of functions that convert the data of a column to a value.\n",
      "        The converters can also be used to provide a default value\n",
      "        for missing data: ``converters = {3: lambda s: float(s or 0)}``.\n",
      "    missing : variable, optional\n",
      "        `missing` was removed in numpy 1.10. Please use `missing_values`\n",
      "        instead.\n",
      "    missing_values : variable, optional\n",
      "        The set of strings corresponding to missing data.\n",
      "    filling_values : variable, optional\n",
      "        The set of values to be used as default when the data are missing.\n",
      "    usecols : sequence, optional\n",
      "        Which columns to read, with 0 being the first.  For example,\n",
      "        ``usecols = (1, 4, 5)`` will extract the 2nd, 5th and 6th columns.\n",
      "    names : {None, True, str, sequence}, optional\n",
      "        If `names` is True, the field names are read from the first line after\n",
      "        the first `skip_header` lines. This line can optionally be preceded\n",
      "        by a comment delimiter. If `names` is a sequence or a single-string of\n",
      "        comma-separated names, the names will be used to define the field names\n",
      "        in a structured dtype. If `names` is None, the names of the dtype\n",
      "        fields will be used, if any.\n",
      "    excludelist : sequence, optional\n",
      "        A list of names to exclude. This list is appended to the default list\n",
      "        ['return','file','print']. Excluded names are appended with an\n",
      "        underscore: for example, `file` would become `file_`.\n",
      "    deletechars : str, optional\n",
      "        A string combining invalid characters that must be deleted from the\n",
      "        names.\n",
      "    defaultfmt : str, optional\n",
      "        A format used to define default field names, such as \"f%i\" or \"f_%02i\".\n",
      "    autostrip : bool, optional\n",
      "        Whether to automatically strip white spaces from the variables.\n",
      "    replace_space : char, optional\n",
      "        Character(s) used in replacement of white spaces in the variable\n",
      "        names. By default, use a '_'.\n",
      "    case_sensitive : {True, False, 'upper', 'lower'}, optional\n",
      "        If True, field names are case sensitive.\n",
      "        If False or 'upper', field names are converted to upper case.\n",
      "        If 'lower', field names are converted to lower case.\n",
      "    unpack : bool, optional\n",
      "        If True, the returned array is transposed, so that arguments may be\n",
      "        unpacked using ``x, y, z = genfromtxt(...)``.  When used with a\n",
      "        structured data-type, arrays are returned for each field.\n",
      "        Default is False.\n",
      "    usemask : bool, optional\n",
      "        If True, return a masked array.\n",
      "        If False, return a regular array.\n",
      "    loose : bool, optional\n",
      "        If True, do not raise errors for invalid values.\n",
      "    invalid_raise : bool, optional\n",
      "        If True, an exception is raised if an inconsistency is detected in the\n",
      "        number of columns.\n",
      "        If False, a warning is emitted and the offending lines are skipped.\n",
      "    max_rows : int,  optional\n",
      "        The maximum number of rows to read. Must not be used with skip_footer\n",
      "        at the same time.  If given, the value must be at least 1. Default is\n",
      "        to read the entire file.\n",
      "\n",
      "        .. versionadded:: 1.10.0\n",
      "    encoding : str, optional\n",
      "        Encoding used to decode the inputfile. Does not apply when `fname` is\n",
      "        a file object.  The special value 'bytes' enables backward compatibility\n",
      "        workarounds that ensure that you receive byte arrays when possible\n",
      "        and passes latin1 encoded strings to converters. Override this value to\n",
      "        receive unicode arrays and pass strings as input to converters.  If set\n",
      "        to None the system default is used. The default value is 'bytes'.\n",
      "\n",
      "        .. versionadded:: 1.14.0\n",
      "    ndmin : int, optional\n",
      "        Same parameter as `loadtxt`\n",
      "\n",
      "        .. versionadded:: 1.23.0\n",
      "    like : array_like, optional\n",
      "        Reference object to allow the creation of arrays which are not\n",
      "        NumPy arrays. If an array-like passed in as ``like`` supports\n",
      "        the ``__array_function__`` protocol, the result will be defined\n",
      "        by it. In this case, it ensures the creation of an array object\n",
      "        compatible with that passed in via this argument.\n",
      "\n",
      "        .. versionadded:: 1.20.0\n",
      "\n",
      "    Returns\n",
      "    -------\n",
      "    out : ndarray\n",
      "        Data read from the text file. If `usemask` is True, this is a\n",
      "        masked array.\n",
      "\n",
      "    See Also\n",
      "    --------\n",
      "    numpy.loadtxt : equivalent function when no data is missing.\n",
      "\n",
      "    Notes\n",
      "    -----\n",
      "    * When spaces are used as delimiters, or when no delimiter has been given\n",
      "      as input, there should not be any missing data between two fields.\n",
      "    * When the variables are named (either by a flexible dtype or with `names`),\n",
      "      there must not be any header in the file (else a ValueError\n",
      "      exception is raised).\n",
      "    * Individual values are not stripped of spaces by default.\n",
      "      When using a custom converter, make sure the function does remove spaces.\n",
      "\n",
      "    References\n",
      "    ----------\n",
      "    .. [1] NumPy User Guide, section `I/O with NumPy\n",
      "           <https://docs.scipy.org/doc/numpy/user/basics.io.genfromtxt.html>`_.\n",
      "\n",
      "    Examples\n",
      "    --------\n",
      "    >>> from io import StringIO\n",
      "    >>> import numpy as np\n",
      "\n",
      "    Comma delimited file with mixed dtype\n",
      "\n",
      "    >>> s = StringIO(u\"1,1.3,abcde\")\n",
      "    >>> data = np.genfromtxt(s, dtype=[('myint','i8'),('myfloat','f8'),\n",
      "    ... ('mystring','S5')], delimiter=\",\")\n",
      "    >>> data\n",
      "    array((1, 1.3, b'abcde'),\n",
      "          dtype=[('myint', '<i8'), ('myfloat', '<f8'), ('mystring', 'S5')])\n",
      "\n",
      "    Using dtype = None\n",
      "\n",
      "    >>> _ = s.seek(0) # needed for StringIO example only\n",
      "    >>> data = np.genfromtxt(s, dtype=None,\n",
      "    ... names = ['myint','myfloat','mystring'], delimiter=\",\")\n",
      "    >>> data\n",
      "    array((1, 1.3, b'abcde'),\n",
      "          dtype=[('myint', '<i8'), ('myfloat', '<f8'), ('mystring', 'S5')])\n",
      "\n",
      "    Specifying dtype and names\n",
      "\n",
      "    >>> _ = s.seek(0)\n",
      "    >>> data = np.genfromtxt(s, dtype=\"i8,f8,S5\",\n",
      "    ... names=['myint','myfloat','mystring'], delimiter=\",\")\n",
      "    >>> data\n",
      "    array((1, 1.3, b'abcde'),\n",
      "          dtype=[('myint', '<i8'), ('myfloat', '<f8'), ('mystring', 'S5')])\n",
      "\n",
      "    An example with fixed-width columns\n",
      "\n",
      "    >>> s = StringIO(u\"11.3abcde\")\n",
      "    >>> data = np.genfromtxt(s, dtype=None, names=['intvar','fltvar','strvar'],\n",
      "    ...     delimiter=[1,3,5])\n",
      "    >>> data\n",
      "    array((1, 1.3, b'abcde'),\n",
      "          dtype=[('intvar', '<i8'), ('fltvar', '<f8'), ('strvar', 'S5')])\n",
      "\n",
      "    An example to show comments\n",
      "\n",
      "    >>> f = StringIO('''\n",
      "    ... text,# of chars\n",
      "    ... hello world,11\n",
      "    ... numpy,5''')\n",
      "    >>> np.genfromtxt(f, dtype='S12,S12', delimiter=',')\n",
      "    array([(b'text', b''), (b'hello world', b'11'), (b'numpy', b'5')],\n",
      "      dtype=[('f0', 'S12'), ('f1', 'S12')])\n",
      "\n"
     ]
    }
   ],
   "source": [
    "# Now we are gonna play with Numbers!\n",
    "import numpy\n",
    "help(numpy.genfromtxt)    # numpy is a Python library and genfromtxt is a Python fuunction.\n"
   ]
  },
  {
   "cell_type": "code",
   "execution_count": 68,
   "id": "9ced84fe-6bf0-4a4e-ad00-fd867e28976b",
   "metadata": {},
   "outputs": [
    {
     "name": "stdout",
     "output_type": "stream",
     "text": [
      "[['Frame' 'THR4_ATP' 'THR4_ASP' 'TYR6_ATP' 'TYR6_ASP']\n",
      " ['1' '8.9542' '5.8024' '11.5478' '9.9557']\n",
      " ['2' '8.6181' '6.0942' '13.9594' '11.6945']\n",
      " ...\n",
      " ['9998' '8.6625' '7.7306' '9.5469' '10.3063']\n",
      " ['9999' '9.2456' '7.8886' '9.8151' '10.7564']\n",
      " ['10000' '8.8135' '7.917' '9.9517' '10.7848']]\n"
     ]
    }
   ],
   "source": [
    "# Instead of readlines() function, we are going to use numpy.genfromtxt function here.\n",
    "\n",
    "import os\n",
    "import numpy\n",
    "\n",
    "distance_file = os.path.join('CMS Workshp (MolSSI data)' , 'distance_data_headers.csv')\n",
    "distance_data = numpy.genfromtxt(fname = distance_file, delimiter = ',' , dtype = 'unicode')\n",
    "print(distance_data)\n",
    "\n",
    "# Here fname is either the file or filepath, ',' should be used as a delimiter for a CSV file and data\n",
    "# type should be unicode (combination of string and float type)."
   ]
  },
  {
   "cell_type": "code",
   "execution_count": 18,
   "id": "ae99a3bf-c0c4-41da-9321-f3a56099175a",
   "metadata": {},
   "outputs": [
    {
     "name": "stdout",
     "output_type": "stream",
     "text": [
      "['Frame' 'THR4_ATP' 'THR4_ASP' 'TYR6_ATP' 'TYR6_ASP']\n",
      "\n",
      "[['1' '8.9542' '5.8024' '11.5478' '9.9557']\n",
      " ['2' '8.6181' '6.0942' '13.9594' '11.6945']\n",
      " ['3' '9.0066' '6.0637' '13.0924' '11.3043']\n",
      " ...\n",
      " ['9998' '8.6625' '7.7306' '9.5469' '10.3063']\n",
      " ['9999' '9.2456' '7.8886' '9.8151' '10.7564']\n",
      " ['10000' '8.8135' '7.917' '9.9517' '10.7848']]\n"
     ]
    }
   ],
   "source": [
    "# The first row of data is headings for our columns, and will need to be stored as 'strings', \n",
    "# whereas all the rest of the data is numerical and will need to be stored as 'floats'.\n",
    "\n",
    "header = distance_data[0]\n",
    "print(header)\n",
    "\n",
    "print('')\n",
    "\n",
    "data = distance_data[1:]\n",
    "print(data)"
   ]
  },
  {
   "cell_type": "code",
   "execution_count": 38,
   "id": "0e18828f-6481-4eb0-927f-9b51230de1e0",
   "metadata": {},
   "outputs": [
    {
     "name": "stdout",
     "output_type": "stream",
     "text": [
      "[[1.00000e+00 8.95420e+00 5.80240e+00 1.15478e+01 9.95570e+00]\n",
      " [2.00000e+00 8.61810e+00 6.09420e+00 1.39594e+01 1.16945e+01]\n",
      " [3.00000e+00 9.00660e+00 6.06370e+00 1.30924e+01 1.13043e+01]\n",
      " ...\n",
      " [9.99800e+03 8.66250e+00 7.73060e+00 9.54690e+00 1.03063e+01]\n",
      " [9.99900e+03 9.24560e+00 7.88860e+00 9.81510e+00 1.07564e+01]\n",
      " [1.00000e+04 8.81350e+00 7.91700e+00 9.95170e+00 1.07848e+01]]\n"
     ]
    }
   ],
   "source": [
    "# As we know that all the data from a txt or any file is saved as string type. Although, the numbers are\n",
    "# supposed to be float, but they are saved as strings in the file. \n",
    "# To change their type to float for the entire data:\n",
    "\n",
    "# data = data.astype(numpy.float)\n",
    "# print(data)\n",
    "\n",
    "import numpy\n",
    "\n",
    "data = data.astype(numpy.float64)\n",
    "print(data)"
   ]
  },
  {
   "cell_type": "code",
   "execution_count": 48,
   "id": "4c1334c6-46eb-4814-81b5-f91dc530cd44",
   "metadata": {},
   "outputs": [
    {
     "name": "stdout",
     "output_type": "stream",
     "text": [
      "1.0 8.9542 2.0\n",
      "1.0\n",
      "8.9542\n",
      "2.0\n"
     ]
    }
   ],
   "source": [
    "# Now to get any particular element of the array\n",
    "\n",
    "data[0,0]\n",
    "data[0,1]\n",
    "data[1,0]\n",
    "print(data[0,0], data[0,1], data[1,0])\n",
    "\n",
    "print(data[0,0])\n",
    "print(data[0,1])\n",
    "print(data[1,0])"
   ]
  },
  {
   "cell_type": "code",
   "execution_count": 52,
   "id": "caf81de2-8394-4301-a9d4-3a4974212e9e",
   "metadata": {},
   "outputs": [
    {
     "name": "stdout",
     "output_type": "stream",
     "text": [
      "[[ 1.      8.9542  5.8024]\n",
      " [ 2.      8.6181  6.0942]\n",
      " [ 3.      9.0066  6.0637]\n",
      " [ 4.      9.2002  6.0227]\n",
      " [ 5.      9.1294  5.9365]\n",
      " [ 6.      9.0462  6.2553]\n",
      " [ 7.      8.8657  5.9186]\n",
      " [ 8.      9.3256  6.2351]\n",
      " [ 9.      9.4184  6.1993]\n",
      " [10.      9.06    6.0478]]\n"
     ]
    }
   ],
   "source": [
    "# To print first 10 rows (0,1,2,3,4,5,6,7,8,9)and first three columns (0,1,2)\n",
    "small_data = data[0:10 , 0:3]\n",
    "print(small_data)"
   ]
  },
  {
   "cell_type": "code",
   "execution_count": 60,
   "id": "d1892dba-dd69-4aa6-a2a8-5f473b1085ac",
   "metadata": {},
   "outputs": [
    {
     "name": "stdout",
     "output_type": "stream",
     "text": [
      "[6.     9.0462 6.2553]\n",
      "\n",
      "[[8.9542 5.8024]\n",
      " [8.6181 6.0942]\n",
      " [9.0066 6.0637]\n",
      " [9.2002 6.0227]\n",
      " [9.1294 5.9365]\n",
      " [9.0462 6.2553]\n",
      " [8.8657 5.9186]\n",
      " [9.3256 6.2351]\n",
      " [9.4184 6.1993]\n",
      " [9.06   6.0478]]\n"
     ]
    }
   ],
   "source": [
    "print(small_data[5,:])\n",
    "print('')\n",
    "print(small_data[:,1:])"
   ]
  },
  {
   "cell_type": "code",
   "execution_count": 74,
   "id": "733ace32-bc34-4be6-bdf2-398eefda372f",
   "metadata": {},
   "outputs": [
    {
     "name": "stdout",
     "output_type": "stream",
     "text": [
      "[8.9542 8.6181 9.0066 ... 8.6625 9.2456 8.8135]\n",
      "10.876950930000001\n"
     ]
    }
   ],
   "source": [
    "# To get the average of distance data\n",
    "\n",
    "THR4_ATP = data[:,1]\n",
    "print(THR4_ATP)\n",
    "THR4_ATP_avg = numpy.mean(THR4_ATP)\n",
    "print(THR4_ATP_avg)\n"
   ]
  },
  {
   "cell_type": "code",
   "execution_count": 84,
   "id": "3c97f425-6f01-4159-bf5a-912d84c9c82b",
   "metadata": {},
   "outputs": [
    {
     "name": "stdout",
     "output_type": "stream",
     "text": [
      "5\n"
     ]
    }
   ],
   "source": [
    "# To get the number of columns in each row. We know that every row (from 1 to 10,000) has 5 columns, and\n",
    "# counting number of columns for one row is the same of all rows:\n",
    "\n",
    "column_num = len (data[0,:])\n",
    "print(column_num)"
   ]
  },
  {
   "cell_type": "code",
   "execution_count": 264,
   "id": "f611b637-c413-4660-a260-ee74340f6fd5",
   "metadata": {},
   "outputs": [
    {
     "name": "stdout",
     "output_type": "stream",
     "text": [
      " Avg for THR4_ATP : 10.876950930000001\n",
      " Avg for THR4_ASP : 7.342344959999999\n",
      " Avg for TYR6_ATP : 11.209791329999998\n",
      " Avg for TYR6_ASP : 10.9934435\n"
     ]
    }
   ],
   "source": [
    "# To take the average of each column, we use the for loop.\n",
    "# for this case, we already know \"header\" and \"data\" from our data. If not, then we have to specify it:\n",
    "header = distance_data[0]     # distance_data is string, only having lists (1st 2nd 3rd and all)\n",
    "data = distance_data[1:]      # same as above\n",
    "data = data.astype(numpy.float64)\n",
    "\n",
    "column_num = len (data[0,:])\n",
    "\n",
    "for i in range(1, column_num):     # Here we assigned i to all columns and defined range from 1 to i\n",
    "    #print(i)\n",
    "    each_column = data[:,i]             # We defined each column as a list of all rows and column i (1 to 5)\n",
    "    each_col_avg = numpy.mean(each_column)\n",
    "    #print(col_avg)\n",
    "    #print(header[i])\n",
    "    print(F' Avg for {header[i]} : {each_col_avg}')\n",
    "\n",
    "# NOTE THAT in the range, we specified the range from 1 to column_num, so i will be counted from 2nd col\n",
    "# to the last column (we do not need to include the first column, as it is just a count of data).\n"
   ]
  },
  {
   "cell_type": "code",
   "execution_count": 198,
   "id": "b30b3bcd-f427-47bf-9ee0-071486d0e9ba",
   "metadata": {},
   "outputs": [
    {
     "name": "stdout",
     "output_type": "stream",
     "text": [
      "['O        0.000000     -0.007156      0.965491'\n",
      " 'H1      -0.000000      0.001486     -0.003471'\n",
      " 'H2       0.000000      0.931026      1.207929']\n"
     ]
    }
   ],
   "source": [
    "# Let's calculate the bond length for O-O, O-H1, O-H2, H1-O, H1-H1, H1-H2, H2-O, H2-H1, H2-H2\n",
    "# bond_len = sqrt ( (x2−x1)2+(y2−y1)2+(z2−z1)2 ) for xyz coordinates\n",
    "\n",
    "import os\n",
    "import numpy\n",
    "\n",
    "xyz_file_path = os.path.join('CMS Workshp (MolSSI data)' , 'water.xyz')\n",
    "xyz_file = numpy.genfromtxt(fname = xyz_file_path , delimiter = ',' , dtype = 'unicode')\n",
    "# print(xyz_file)\n",
    "xyz_file = xyz_file[2:]       # I could have also used skip_header = 2 to remove first 2 rows.\n",
    "print(xyz_file)\n",
    "\n",
    "# This is not printing each element as a sperate string, as I specified delimiter = , while there is no ,\n",
    "# in our file. So, python takes whole row as an array.\n",
    "# I can't specify delimiter = None, as then it expects the number of columns in all rows to match. \n",
    "# Since our .xyz file has inconsistent formatting in the first two lines compared to the data rows, \n",
    "# numpy.genfromtxt raises a ValueError.\n"
   ]
  },
  {
   "cell_type": "code",
   "execution_count": 272,
   "id": "f4ba969b-76fb-4ad2-8221-fa6fe3711435",
   "metadata": {},
   "outputs": [
    {
     "name": "stdout",
     "output_type": "stream",
     "text": [
      "['O' 'H1' 'H2']\n",
      "[[ 0.       -0.007156  0.965491]\n",
      " [-0.        0.001486 -0.003471]\n",
      " [ 0.        0.931026  1.207929]]\n",
      "3\n",
      "\n",
      "O to O: 0.0\n",
      "O to H1: 0.9690005374652793\n",
      "O to H2: 0.9690003348647513\n",
      "H1 to O: 0.9690005374652793\n",
      "H1 to H1: 0.0\n",
      "H1 to H2: 1.52693633514957\n",
      "H2 to O: 0.9690003348647513\n",
      "H2 to H1: 1.52693633514957\n",
      "H2 to H2: 0.0\n"
     ]
    }
   ],
   "source": [
    "# Let's calculate the bond length for O-O, O-H1, O-H2, H1-O, H1-H1, H1-H2, H2-O, H2-H1, H2-H2\n",
    "# bond_len = sqrt ( (x2−x1)2+(y2−y1)2+(z2−z1)2 ) for xyz coordinates\n",
    "# To avoid specifying delimiter, we can use the skip_header argument to skip the first two rows and \n",
    "# avoid processing lines that don't match the data structure.\n",
    "\n",
    "import numpy\n",
    "import os\n",
    "\n",
    "xyz_file_path = os.path.join('CMS Workshp (MolSSI data)', 'water.xyz')\n",
    "xyz_file = numpy.genfromtxt(fname = xyz_file_path, skip_header=2,  dtype='unicode')  \n",
    "#print(xyz_file)     \n",
    "\n",
    "molecule = xyz_file[:,0]                           # These are our molecules (as string type)\n",
    "print(molecule)\n",
    "coordinates = xyz_file[:,1:]                       # These are our xyz coordinates (as string type)\n",
    "coordinates = coordinates.astype(numpy.float64)    # These are our xyz coordinates (as float type)\n",
    "print(coordinates)\n",
    "\n",
    "# now we will split the columns and assign i to each column\n",
    "col_num = len(coordinates[0,:])\n",
    "print(col_num)\n",
    "print('')\n",
    "\n",
    "for i_1 in range(0, col_num):\n",
    "    for i_2 in range(0, col_num):\n",
    "        x_distances = coordinates[i_1,0] - coordinates[i_2,0]   \n",
    "# i_1 / i_2 are just numbers varying from 1-3. So this command will vary row from 1 to 3 but for 1st col\n",
    "        y_distances = coordinates[i_1,1] - coordinates[i_2,1]   \n",
    "        z_distances = coordinates[i_1,2] - coordinates[i_2,2]\n",
    "        bond_len = numpy.sqrt(x_distances**2 + y_distances**2 + z_distances**2)\n",
    "        #print(bond_len)\n",
    "        \n",
    "\n",
    "# NOTE THAT in the range, we specified the range from 0 to column_num, so i will be counted from 1st col\n",
    "# to the last column (here we need to include the first column, unlike the previous case).\n",
    "\n",
    "# Now which bond length belongs to which data? The pattern based on above code should be \n",
    "# O-O, H1-O, H2-O for variable row and 1st column\n",
    "# O-H1, H1-H1, H2-H1 for variable row and 2nd column\n",
    "# O-H2, H1-H2, H2-H2 for variable row and 3rd column\n",
    "\n",
    "        print(F'{molecule[i_1]} to {molecule[i_2]}:' , bond_len) \n",
    "        "
   ]
  },
  {
   "cell_type": "code",
   "execution_count": 304,
   "id": "2ad74e46-e923-4a1e-9e25-362960aef944",
   "metadata": {},
   "outputs": [
    {
     "name": "stdout",
     "output_type": "stream",
     "text": [
      "['O' 'H1' 'H2']\n",
      "[[ 0.       -0.007156  0.965491]\n",
      " [-0.        0.001486 -0.003471]\n",
      " [ 0.        0.931026  1.207929]]\n",
      "3\n",
      "\n",
      "O to H1: 0.9690005374652793\n",
      "O to H2: 0.9690003348647513\n",
      "H1 to O: 0.9690005374652793\n",
      "H2 to O: 0.9690003348647513\n"
     ]
    }
   ],
   "source": [
    "# Modify your code to only print the atoms that are actually bonded to each other.\n",
    "# We Use a distance cutoff of 1.5 angstroms to define a bond (that is, if the bond length is less/equal \n",
    "# to 1.5 angstroms, or greater than 0, then consider the atoms are bonded).\n",
    "\n",
    "import numpy\n",
    "import os\n",
    "\n",
    "xyz_file_path = os.path.join('CMS Workshp (MolSSI data)', 'water.xyz')\n",
    "xyz_file = numpy.genfromtxt(fname = xyz_file_path, skip_header=2,  dtype='unicode')  \n",
    "#print(xyz_file)     \n",
    "\n",
    "molecule = xyz_file[:,0]                           # These are our molecules (as string type)\n",
    "print(molecule)\n",
    "coordinates = xyz_file[:,1:]                       # These are our xyz coordinates (as string type)\n",
    "coordinates = coordinates.astype(numpy.float64)    # These are our xyz coordinates (as float type)\n",
    "print(coordinates)\n",
    "\n",
    "# now we will split the columns and assign i to each column\n",
    "col_num = len(coordinates[0,:])       \n",
    "print(col_num)\n",
    "print('')\n",
    "\n",
    "for i_1 in range(0, col_num):               # We could have said range(0,3), but to generlaize the code\n",
    "    for i_2 in range(0, col_num):\n",
    "        x_distances = coordinates[i_1,0] - coordinates[i_2,0]   \n",
    "# i_1 / i_2 are just numbers varying from 1-3. So this command will vary row from 1 to 3 but for 1st col\n",
    "        y_distances = coordinates[i_1,1] - coordinates[i_2,1]   \n",
    "        z_distances = coordinates[i_1,2] - coordinates[i_2,2]\n",
    "        bond_len = numpy.sqrt(x_distances**2 + y_distances**2 + z_distances**2)\n",
    "        if bond_len <= 1.5 and bond_len > 0:\n",
    "            real_bond_len = bond_len\n",
    "            print(F'{molecule[i_1]} to {molecule[i_2]}:' , real_bond_len) \n"
   ]
  },
  {
   "cell_type": "code",
   "execution_count": 322,
   "id": "d533dd2c-b5b7-48ff-8cdb-d92771f6b746",
   "metadata": {},
   "outputs": [
    {
     "name": "stdout",
     "output_type": "stream",
     "text": [
      "['O' 'H1' 'H2']\n",
      "[[ 0.       -0.007156  0.965491]\n",
      " [-0.        0.001486 -0.003471]\n",
      " [ 0.        0.931026  1.207929]]\n",
      "3\n",
      "\n",
      "O to H1: 0.9690005374652793\n",
      "O to H2: 0.9690003348647513\n"
     ]
    }
   ],
   "source": [
    "# O to H1 and H1 to O refer to the same bond length. Remove the duplicates from your list.\n",
    "\n",
    "# Modify your code to only print the atoms that are actually bonded to each other.\n",
    "# We Use a distance cutoff of 1.5 angstroms to define a bond (that is, if the bond length is less/equal \n",
    "# to 1.5 angstroms, or greater than 0, then consider the atoms are bonded).\n",
    "\n",
    "with open ('Bond_length' , \"w+\") as txt_file:\n",
    "    \n",
    "    import numpy\n",
    "    import os\n",
    "\n",
    "    xyz_file_path = os.path.join('CMS Workshp (MolSSI data)', 'water.xyz')\n",
    "    xyz_file = numpy.genfromtxt(fname = xyz_file_path, skip_header=2,  dtype='unicode')  \n",
    "    #print(xyz_file)     \n",
    "\n",
    "    molecule = xyz_file[:,0]                           # These are our molecules (as string type)\n",
    "    print(molecule)\n",
    "    coordinates = xyz_file[:,1:]                       # These are our xyz coordinates (as string type)\n",
    "    coordinates = coordinates.astype(numpy.float64)    # These are our xyz coordinates (as float type)\n",
    "    print(coordinates)\n",
    "# 1st column is x, 2nd column is y, 3rd column is z.\n",
    "# now we will split the rows and assign i to each row\n",
    "    row_num = len(coordinates[:,0])\n",
    "    print(row_num)\n",
    "    print('')\n",
    "# 1st column is x_coordinates, 2nd column is y, 3rd column is z.\n",
    "# 1st row is for O_atoms, 2nd for H1, and 3rd for H2\n",
    "    \n",
    "# It is the same if we use 3 instead of row_num (as row_num = 3), row_num generalizes the code.    \n",
    "    for i_1 in range(0, row_num):          # So, values of i_1 = 0, 1 , 2 for 1st, 2nd & 3rd row\n",
    "        for i_2 in range(0, row_num):      # So, values of i_2 = 0, 1 , 2 for 1st, 2nd & 3rd row\n",
    "            if i_1 < i_2:            \n",
    "                x_distances = coordinates[i_1,0] - coordinates[i_2,0]   # subtraction of 2 x values for 1st col\n",
    "# i_1 / i_2 are just numbers varying from 0 1 2 (rows), this command will vary row from 1st-3rd for 1st col\n",
    "                y_distances = coordinates[i_1,1] - coordinates[i_2,1]   \n",
    "                z_distances = coordinates[i_1,2] - coordinates[i_2,2]\n",
    "                bond_len = numpy.sqrt(x_distances**2 + y_distances**2 + z_distances**2)\n",
    "                if bond_len <= 1.5 and bond_len > 0:\n",
    "                    real_bond_len = bond_len\n",
    "                    print(F'{molecule[i_1]} to {molecule[i_2]}:' , real_bond_len) \n",
    "\n",
    "# in this case, the if function avoids considering the same row. As i_1 and i_2 both vary from as 0 1 2\n",
    "# e.g. when i_1 is 0, i_2 can only be 1 or 2 (but not 0).\n",
    "# when i_1 is 1, i_2 can only be 2 (but not 0 and 1)\n",
    "\n",
    "# Hence we are only left with three options, and for one of the options (H1-H2), the bond_len >1.5, so \n",
    "# only the following two are feasible.\n",
    "\n",
    "# Now to print out the file in txt formate:\n",
    "\n",
    "                    txt_file.write(F'{molecule[i_1]} to {molecule[i_2]}: real_bond_len \\n')\n",
    "txt_file.close()"
   ]
  },
  {
   "cell_type": "code",
   "execution_count": null,
   "id": "7495b485-0a8b-43dc-b1ce-52d08afaca46",
   "metadata": {},
   "outputs": [],
   "source": []
  }
 ],
 "metadata": {
  "kernelspec": {
   "display_name": "Python [conda env:base] *",
   "language": "python",
   "name": "conda-base-py"
  },
  "language_info": {
   "codemirror_mode": {
    "name": "ipython",
    "version": 3
   },
   "file_extension": ".py",
   "mimetype": "text/x-python",
   "name": "python",
   "nbconvert_exporter": "python",
   "pygments_lexer": "ipython3",
   "version": "3.12.7"
  }
 },
 "nbformat": 4,
 "nbformat_minor": 5
}
