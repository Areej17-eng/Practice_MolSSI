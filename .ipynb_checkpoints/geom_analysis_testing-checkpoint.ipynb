{
 "cells": [
  {
   "cell_type": "code",
   "execution_count": 11,
   "id": "fead4267-17c2-4f8a-acb4-1172ee9d81f0",
   "metadata": {},
   "outputs": [
    {
     "name": "stderr",
     "output_type": "stream",
     "text": [
      "usage: ipykernel_launcher.py [-h] [--min_bond_len MIN_BOND_LEN]\n",
      "                             [--max_bond_len MAX_BOND_LEN]\n",
      "                             xyz_file\n",
      "ipykernel_launcher.py: error: unrecognized arguments: -f\n"
     ]
    },
    {
     "ename": "SystemExit",
     "evalue": "2",
     "output_type": "error",
     "traceback": [
      "An exception has occurred, use %tb to see the full traceback.\n",
      "\u001b[0;31mSystemExit\u001b[0m\u001b[0;31m:\u001b[0m 2\n"
     ]
    }
   ],
   "source": [
    "### Running code from the Linux Command Line ###\n",
    "\n",
    "## We will be usiing the same code that we developed in the last module.\n",
    "\n",
    "# Now let's combine all the above functions to open an xyz file and calculate bond lengths for its atoms:\n",
    "\n",
    "import os\n",
    "import numpy\n",
    "import argparse\n",
    "\n",
    "\"\"\" Function to get/open the file\"\"\"\n",
    "def open_xyz(xyz_file_path):           # \"xyz_file_path\" is just a placeholder to take the needed xyz file path \n",
    "    # Create an error message if the file is not .xyz type\n",
    "    filename = os.path.basename(xyz_file_path)\n",
    "    split_filename = filename.split('.')\n",
    "    extension = split_filename[-1]        # This extension shows the file type. \n",
    "    if extension != \".xyz\":\n",
    "        raise ValueError(\"Incorrect file type! File must be type xyz\")\n",
    "    \n",
    "    xyz_file = numpy.genfromtxt(fname = xyz_file_path, skip_header = 2, dtype = 'unicode')\n",
    "    molecules = xyz_file[:,0]\n",
    "    coordinates = xyz_file[:,1:]\n",
    "    coordinates = coordinates.astype(numpy.float64)\n",
    "    return molecules, coordinates\n",
    "\n",
    "\"\"\" Function to calculate the bond_len for any_xyz_file\"\"\"\n",
    "def atomic_dist(atom1_coord, atom2_coord):\n",
    "    x_distances = atom1_coord[0] - atom2_coord[0]\n",
    "    y_distances = atom1_coord[1] - atom2_coord[1]\n",
    "    z_distances = atom1_coord[2] - atom2_coord[2]\n",
    "    bond_len = numpy.sqrt(x_distances**2 + y_distances**2 + z_distances**2)\n",
    "    return bond_len\n",
    "\n",
    "\"\"\" Function to check if a distance qualifies as a bond define the max/min value for bond_len\"\"\" \n",
    "def bond_check(bond_len, min_length = 0, max_length = 1.5):\n",
    "    if bond_len < 0:\n",
    "        raise ValueError(F'Invalid bond length{bond_len}. Distance can not be less than 0!')\n",
    "    if bond_len > min_length and bond_len <= max_length:\n",
    "        return True\n",
    "    else:\n",
    "        return False\n",
    "\n",
    "\"\"\" Function to call already defined \"atomic_dist\" funct for bond_length calculation using xyz file data\"\"\"\n",
    "\"\"\" This is the main script to calculate and print bond lengths \"\"\"\n",
    "# This time, we will use argument parse commands to run any xyz file from the terminal.\n",
    "if __name__ == \"__main__\":\n",
    "    # Initialize argparse\n",
    "    parser = argparse.ArgumentParser(description=\"This script analyzes a user given xyz file and outputs the length of the bonds.\")\n",
    "    # Generate argument for xyz file\n",
    "    parser.add_argument(\"xyz_file\", help=\"The filepath for the xyz file to analyze.\") # Here xyz_file is the argument name (can be any name)\n",
    "    # Generate argument for min_bond length\n",
    "    parser.add_argument(\"--min_bond_len\", help=\"The minimum distance to consider atoms bonded.\", type=float, default=0) # Here min_bond_len is the argument name (-- means optional)\n",
    "    # Generate argument for max_bond length\n",
    "    parser.add_argument(\"--max_bond_len\", help=\"The maximum distance to consider atoms bonded.\", type=float, default=1.5) # Here max_bond_len is the argument name (-- means optional)\n",
    "    args = parser.parse_args()\n",
    "    \n",
    "    xyz_file = args.xyz_file\n",
    "    min_bond_len = args.min_bond_len\n",
    "    max_bond_len = args.max_bond_len\n",
    "\n",
    "    molecules , coordinates = open_xyz(xyz_file)\n",
    "\n",
    "    # We add another argparse to allow user specification of min bond length\n",
    "    \n",
    "    # Main Script:\n",
    "    row_num = len(coordinates[:,0])\n",
    "    for i_1 in range(0, row_num):\n",
    "        for i_2 in range(0, row_num):\n",
    "            if i_1 < i_2:\n",
    "                bond_len = atomic_dist(coordinates[i_1] , coordinates[i_2])    #coordinates[i_1] or [i_2] is the real data that we put in place of placeholders atom1_coord & atom2_coord\n",
    "                if bond_check(bond_len, min_bond_len, max_bond_len) is True:\n",
    "                    print(F'{molecules[i_1]} to {molecules[i_2]}:' , bond_len)\n",
    "\n",
    "\n",
    "## To use this code on terminal ##\n",
    "# Convert ipynb file to py using: jupyter nbconvert --to script geom_analysis_testing.ipynb\n",
    "# Use this command to enter the directory: cd /Users/areejnad/Documents/Areej\\ Academic\\ Data/My\\ Research/CCR\\ and\\ Simulation\\ Learning/Learning\\ Python/Learning\\ Data/\n",
    "# Use this command to execute: python geom_analysis.py \"CMS Workshp (MolSSI data)/water.xyz\"\n",
    "\n",
    "# Values in bond_check: The function bond_check(bond_len, min_length=0, max_length=1.5) uses default \n",
    "# values for the min_length and max_length. If no values are passed explicitly to the function, it will use these defaults.\n",
    "# The default values in bond_check are overridden if the user-specified values \n",
    "# (min_bond_len and max_bond_len) are passed explicitly when calling the function.\n",
    "\n",
    "# Now run the code as: python geom_analysis.py \"CMS Workshp (MolSSI data)/water.xyz\" --min_bond_len 0.5 --max_bond_len 2.0 \n",
    "\n"
   ]
  },
  {
   "cell_type": "code",
   "execution_count": null,
   "id": "14ed172c-9af0-4226-840a-4adbe377705c",
   "metadata": {},
   "outputs": [],
   "source": []
  },
  {
   "cell_type": "code",
   "execution_count": null,
   "id": "10e17721-6b0b-4704-b9e2-32b23f7a6ae0",
   "metadata": {},
   "outputs": [],
   "source": []
  }
 ],
 "metadata": {
  "kernelspec": {
   "display_name": "Python [conda env:base] *",
   "language": "python",
   "name": "conda-base-py"
  },
  "language_info": {
   "codemirror_mode": {
    "name": "ipython",
    "version": 3
   },
   "file_extension": ".py",
   "mimetype": "text/x-python",
   "name": "python",
   "nbconvert_exporter": "python",
   "pygments_lexer": "ipython3",
   "version": "3.12.7"
  }
 },
 "nbformat": 4,
 "nbformat_minor": 5
}
