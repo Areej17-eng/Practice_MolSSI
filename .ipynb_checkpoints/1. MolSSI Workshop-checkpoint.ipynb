{
 "cells": [
  {
   "cell_type": "markdown",
   "id": "2b4ddd72-f0e4-486c-8874-a1819ac6cced",
   "metadata": {},
   "source": [
    "# MolSSI Workshop\n",
    "## Introduction"
   ]
  },
  {
   "cell_type": "code",
   "execution_count": 3,
   "id": "3a8a1ef9-2bbe-43ee-9db4-8c78956c6dcd",
   "metadata": {},
   "outputs": [
    {
     "data": {
      "text/plain": [
       "10"
      ]
     },
     "execution_count": 3,
     "metadata": {},
     "output_type": "execute_result"
    }
   ],
   "source": [
    "3+7"
   ]
  },
  {
   "cell_type": "code",
   "execution_count": 5,
   "id": "46b2ca8a-5d50-49ba-a583-92fca1f4d0bb",
   "metadata": {},
   "outputs": [],
   "source": [
    "Delta_H = -541 #kJ/gmol\n",
    "Delta_S = 10.4 #kJ/gmol\n",
    "T = 298 #Kelvin\n",
    "Delta_G = Delta_H -(Delta_S * T)\n"
   ]
  },
  {
   "cell_type": "code",
   "execution_count": 7,
   "id": "b3d49472-8f56-4ee3-b6cd-671c34a4ce61",
   "metadata": {},
   "outputs": [
    {
     "name": "stdout",
     "output_type": "stream",
     "text": [
      "-3640.2000000000003\n"
     ]
    }
   ],
   "source": [
    "print(Delta_G)"
   ]
  },
  {
   "cell_type": "code",
   "execution_count": 13,
   "id": "71166e4a-2b04-49bf-a894-d8fc0973bc56",
   "metadata": {},
   "outputs": [
    {
     "name": "stdout",
     "output_type": "stream",
     "text": [
      "-3640200000.0000005\n"
     ]
    }
   ],
   "source": [
    "Delta_G = Delta_G * 1000\n",
    "print(Delta_G)"
   ]
  },
  {
   "cell_type": "code",
   "execution_count": 15,
   "id": "55dcb3b5-40da-405d-b459-01a40b3a8c07",
   "metadata": {},
   "outputs": [
    {
     "name": "stdout",
     "output_type": "stream",
     "text": [
      "-3640.2000000000003\n"
     ]
    }
   ],
   "source": [
    "Dleta_H , Delta_S, T = -541 , 10.4 , 298\n",
    "Delta_G = Delta_H -(Delta_S * T)\n",
    "print(Delta_G)"
   ]
  },
  {
   "cell_type": "code",
   "execution_count": 23,
   "id": "cd1cbbd7-7cf3-4310-accf-e7e356948be6",
   "metadata": {},
   "outputs": [],
   "source": [
    "##Data Type\n",
    "#Each variable is some particular type of data. The most common types of data are strings (str), integers (int), and floating point numbers (float). You can identify the data type of any variable with the function type(variable_name)."
   ]
  },
  {
   "cell_type": "code",
   "execution_count": 19,
   "id": "9a2b3eaf-92d0-40a2-904f-275dccc4ef99",
   "metadata": {},
   "outputs": [
    {
     "data": {
      "text/plain": [
       "float"
      ]
     },
     "execution_count": 19,
     "metadata": {},
     "output_type": "execute_result"
    }
   ],
   "source": [
    "type(Delta_G)  #It should be float type (Decimal or floating-point numbers)."
   ]
  },
  {
   "cell_type": "code",
   "execution_count": 25,
   "id": "7cbd46a3-3ea6-4838-b125-290784d80bc5",
   "metadata": {},
   "outputs": [],
   "source": [
    "#If I want to change the data type of any variable (e.g. Delta_G), then I can do it through following:"
   ]
  },
  {
   "cell_type": "code",
   "execution_count": 33,
   "id": "76192b83-a33f-49e9-a5eb-34114e270f67",
   "metadata": {},
   "outputs": [
    {
     "data": {
      "text/plain": [
       "str"
      ]
     },
     "execution_count": 33,
     "metadata": {},
     "output_type": "execute_result"
    }
   ],
   "source": [
    "Delta_G_string = str(Delta_G)\n",
    "type(Delta_G_string)"
   ]
  },
  {
   "cell_type": "code",
   "execution_count": 35,
   "id": "b15090a3-8f1b-4ece-b512-9c5e659b2794",
   "metadata": {},
   "outputs": [
    {
     "data": {
      "text/plain": [
       "str"
      ]
     },
     "execution_count": 35,
     "metadata": {},
     "output_type": "execute_result"
    }
   ],
   "source": [
    "Delta_G_string = \"Delta_G\"\n",
    "type(Delta_G_string)"
   ]
  },
  {
   "cell_type": "code",
   "execution_count": 37,
   "id": "92f66751-f4cc-4424-aaa8-79e2777732fb",
   "metadata": {},
   "outputs": [
    {
     "data": {
      "text/plain": [
       "str"
      ]
     },
     "execution_count": 37,
     "metadata": {},
     "output_type": "execute_result"
    }
   ],
   "source": [
    "Delta_S_string = \"Delta_S\"\n",
    "type(Delta_S_string)"
   ]
  },
  {
   "cell_type": "code",
   "execution_count": 45,
   "id": "8da1affd-3504-4cc3-a38d-078524ab31c5",
   "metadata": {},
   "outputs": [
    {
     "name": "stdout",
     "output_type": "stream",
     "text": [
      "4\n"
     ]
    }
   ],
   "source": [
    "energy = [-13.4, 14.2, 17.3, 19] # kcal\n",
    "energy_length = len(energy)\n",
    "\n",
    "print(energy_length)"
   ]
  },
  {
   "cell_type": "code",
   "execution_count": 41,
   "id": "ba2ace9b-d8cb-46a9-ba29-08db3ec9b9ca",
   "metadata": {},
   "outputs": [
    {
     "name": "stdout",
     "output_type": "stream",
     "text": [
      "The length of energy variable is 4\n"
     ]
    }
   ],
   "source": [
    "#I can also express it like this.\n",
    "print('The length of energy variable is' , len(energy))"
   ]
  },
  {
   "cell_type": "code",
   "execution_count": 43,
   "id": "a1a3b19d-68d9-4df7-a6ca-939d5b914ebd",
   "metadata": {},
   "outputs": [
    {
     "name": "stdout",
     "output_type": "stream",
     "text": [
      "-13.4\n"
     ]
    }
   ],
   "source": [
    "# In python counting starts at zero. So the first element of the list is list[0], so to print it\n",
    "print(energy[0])"
   ]
  },
  {
   "cell_type": "code",
   "execution_count": 49,
   "id": "687346bb-9be8-4cc5-b340-469781def1f7",
   "metadata": {},
   "outputs": [
    {
     "name": "stdout",
     "output_type": "stream",
     "text": [
      "59.4128\n"
     ]
    }
   ],
   "source": [
    "# To use any particular value in the list, we can do this:\n",
    "energy_kJ = energy[1] * 4.184\n",
    "print(energy_kJ)"
   ]
  },
  {
   "cell_type": "code",
   "execution_count": 55,
   "id": "cb0369eb-9c4c-4322-b22c-f66c607c9a96",
   "metadata": {},
   "outputs": [
    {
     "name": "stdout",
     "output_type": "stream",
     "text": [
      "[14.2, 17.3]\n"
     ]
    }
   ],
   "source": [
    "# We might want to make a new list that is just the first few elements of our previous list. This is called a slice.\n",
    "energy_new_list = energy[1:3] # This is Slice. It will count element 1 and 2, but not the last 3\n",
    "print(energy_new_list)"
   ]
  },
  {
   "cell_type": "code",
   "execution_count": 61,
   "id": "0658b865-374a-44f8-b8b1-609dd5ddbbf8",
   "metadata": {},
   "outputs": [
    {
     "name": "stdout",
     "output_type": "stream",
     "text": [
      "[14.2, 17.3, 19] [-13.4, 14.2, 17.3] [-13.4, 14.2, 17.3, 19]\n"
     ]
    }
   ],
   "source": [
    "Slice1 = energy[1:]   # Contains element 1 2 3, so element number before : is counted\n",
    "Slice2 = energy[:3]   # Contains element 0 1 2, the last element number after : is not counted\n",
    "Slice3 = energy[:]\n",
    "print(Slice1, Slice2, Slice3)"
   ]
  },
  {
   "cell_type": "code",
   "execution_count": 65,
   "id": "7ae8b5eb-0756-4be3-bfe2-e05efa22b5ef",
   "metadata": {},
   "outputs": [
    {
     "name": "stdout",
     "output_type": "stream",
     "text": [
      "[-13.4, 14.2, 17.3, 19]\n",
      "[-13.4, 14.2]\n"
     ]
    }
   ],
   "source": [
    "print(energy)\n",
    "print(energy[0:2])"
   ]
  },
  {
   "cell_type": "code",
   "execution_count": 67,
   "id": "f3c86d8f-a56a-416d-8a96-55d47ff979fe",
   "metadata": {},
   "outputs": [
    {
     "name": "stdout",
     "output_type": "stream",
     "text": [
      "[-13.4, 14.2, 17.3, 19]\n",
      "[-13.4, 14.2, 17.3, 19]\n"
     ]
    }
   ],
   "source": [
    "print(energy)\n",
    "energy[0:2]\n",
    "print(energy)"
   ]
  },
  {
   "cell_type": "code",
   "execution_count": 69,
   "id": "78ce63d3-da36-439b-894e-90133e521d80",
   "metadata": {},
   "outputs": [],
   "source": [
    "##Repeating an operation many times: for loops"
   ]
  },
  {
   "cell_type": "code",
   "execution_count": 71,
   "id": "47276f2d-c8d1-4dc0-9185-e1afef65743e",
   "metadata": {},
   "outputs": [
    {
     "ename": "TypeError",
     "evalue": "can't multiply sequence by non-int of type 'float'",
     "output_type": "error",
     "traceback": [
      "\u001b[0;31m---------------------------------------------------------------------------\u001b[0m",
      "\u001b[0;31mTypeError\u001b[0m                                 Traceback (most recent call last)",
      "Cell \u001b[0;32mIn[71], line 1\u001b[0m\n\u001b[0;32m----> 1\u001b[0m energy_kJ \u001b[38;5;241m=\u001b[39m energy \u001b[38;5;241m*\u001b[39m \u001b[38;5;241m4.184\u001b[39m\n\u001b[1;32m      2\u001b[0m \u001b[38;5;28mprint\u001b[39m(energy_kJ)\n",
      "\u001b[0;31mTypeError\u001b[0m: can't multiply sequence by non-int of type 'float'"
     ]
    }
   ],
   "source": [
    "energy_kJ = energy * 4.184     # I should get an error as energy is a matrix (list)\n",
    "print(energy_kJ)"
   ]
  },
  {
   "cell_type": "code",
   "execution_count": 75,
   "id": "301199ca-79ad-488a-b6c0-1f79d5cc9f9a",
   "metadata": {},
   "outputs": [
    {
     "ename": "TypeError",
     "evalue": "can't multiply sequence by non-int of type 'float'",
     "output_type": "error",
     "traceback": [
      "\u001b[0;31m---------------------------------------------------------------------------\u001b[0m",
      "\u001b[0;31mTypeError\u001b[0m                                 Traceback (most recent call last)",
      "Cell \u001b[0;32mIn[75], line 1\u001b[0m\n\u001b[0;32m----> 1\u001b[0m energy_kJ \u001b[38;5;241m=\u001b[39m energy[\u001b[38;5;241m1\u001b[39m:\u001b[38;5;241m3\u001b[39m] \u001b[38;5;241m*\u001b[39m \u001b[38;5;241m4.184\u001b[39m   \u001b[38;5;66;03m# I should get an error as energy is a matrix (list)\u001b[39;00m\n\u001b[1;32m      2\u001b[0m \u001b[38;5;28mprint\u001b[39m(energy_kJ)\n",
      "\u001b[0;31mTypeError\u001b[0m: can't multiply sequence by non-int of type 'float'"
     ]
    }
   ],
   "source": [
    "energy_kJ = energy[1:3] * 4.184   # I should get an error as it is still a matrix (list)\n",
    "print(energy_kJ)"
   ]
  },
  {
   "cell_type": "code",
   "execution_count": 77,
   "id": "79447dde-7667-489d-be61-4916f4258a19",
   "metadata": {},
   "outputs": [
    {
     "name": "stdout",
     "output_type": "stream",
     "text": [
      "79.49600000000001\n"
     ]
    }
   ],
   "source": [
    "energy_kJ = energy[3] * 4.184   # I should not get an error as it is a scalar now (not a list)\n",
    "print(energy_kJ)"
   ]
  },
  {
   "cell_type": "code",
   "execution_count": 87,
   "id": "689620d3-41c9-4b55-9273-c9bc00fb949a",
   "metadata": {},
   "outputs": [
    {
     "name": "stdout",
     "output_type": "stream",
     "text": [
      "-56.0656\n",
      "59.4128\n",
      "72.3832\n",
      "79.49600000000001\n"
     ]
    }
   ],
   "source": [
    "# If I want to multiply a number with each element of the list, I need to use for command\n",
    "for number in energy:\n",
    "    energy_kJ = number * 4.184    # I also used indentation here (4 spaces) to continue the same loop. \n",
    "    print(energy_kJ)              # If I don't indent, I will get an error."
   ]
  },
  {
   "cell_type": "code",
   "execution_count": 99,
   "id": "7013446c-fd23-4849-b168-05bd061b419a",
   "metadata": {},
   "outputs": [
    {
     "name": "stdout",
     "output_type": "stream",
     "text": [
      "[-56.0656]\n",
      "[-56.0656, 59.4128]\n",
      "[-56.0656, 59.4128, 72.3832]\n",
      "[-56.0656, 59.4128, 72.3832, 79.49600000000001]\n"
     ]
    }
   ],
   "source": [
    "# using for and in command, we just got output values.  If we want to convert the output into a list \n",
    "# just like energy, then use append function.\n",
    "energy_kJ_list = []\n",
    "for number in energy:\n",
    "    energy_kJ = number * 4.184\n",
    "    energy_kJ_list.append(energy_kJ)\n",
    "    print(energy_kJ_list)"
   ]
  },
  {
   "cell_type": "code",
   "execution_count": 95,
   "id": "675bee31-2bf1-4aea-9803-9e8193d2cb06",
   "metadata": {},
   "outputs": [
    {
     "name": "stdout",
     "output_type": "stream",
     "text": [
      "[-56.0656, 59.4128, 72.3832, 79.49600000000001]\n"
     ]
    }
   ],
   "source": [
    "energy_kJ = []\n",
    "for number in energy:\n",
    "    kJ = number * 4.184\n",
    "    energy_kJ.append(kJ)\n",
    "print(energy_kJ)"
   ]
  },
  {
   "cell_type": "code",
   "execution_count": 101,
   "id": "2c9bde65-a2dd-4a5e-8600-273901bea874",
   "metadata": {},
   "outputs": [
    {
     "name": "stdout",
     "output_type": "stream",
     "text": [
      "[-56.0656, 59.4128, 72.3832, 79.49600000000001]\n"
     ]
    }
   ],
   "source": [
    "energy_kJ_list = []\n",
    "for number in energy:\n",
    "    energy_kJ = number * 4.184\n",
    "    energy_kJ_list.append(energy_kJ)\n",
    "print(energy_kJ_list)"
   ]
  },
  {
   "cell_type": "code",
   "execution_count": 115,
   "id": "abb869f1-3ab4-4a63-a406-7c1bc0b42fd1",
   "metadata": {},
   "outputs": [
    {
     "name": "stdout",
     "output_type": "stream",
     "text": [
      "[-56.0656]\n"
     ]
    }
   ],
   "source": [
    "## Logic Statements \n",
    "#Now we have energy_kJ_list, what if we want to report only -ve values\n",
    "negative_energy_kJ_list = []\n",
    "for number in energy_kJ_list:\n",
    "    if number < 0:\n",
    "        negative_energy_kJ_list.append(number)\n",
    "print(negative_energy_kJ_list)"
   ]
  },
  {
   "cell_type": "code",
   "execution_count": 121,
   "id": "595206c9-0e53-4954-8ff2-1e45720dd8aa",
   "metadata": {},
   "outputs": [
    {
     "name": "stdout",
     "output_type": "stream",
     "text": [
      "[59.4128, 72.3832, 79.49600000000001]\n"
     ]
    }
   ],
   "source": [
    "# let's use some other logic operators\n",
    "positive_energy_kJ_list = []\n",
    "for number in energy_kJ_list:\n",
    "    if number >= 0:\n",
    "        positive_energy_kJ_list.append(number)\n",
    "print(positive_energy_kJ_list)"
   ]
  },
  {
   "cell_type": "code",
   "execution_count": 133,
   "id": "6af9bcd8-ecab-4735-a560-b2a0c111a955",
   "metadata": {},
   "outputs": [
    {
     "name": "stdout",
     "output_type": "stream",
     "text": [
      "[<class 'list'>, <class 'list'>, <class 'list'>, <class 'list'>]\n"
     ]
    }
   ],
   "source": [
    "# Exercise: Set up a for loop to go over each element of data_list.\n",
    "\n",
    "data_list = ['-12.5', 14.4, 8.1, '42']\n",
    "data_list_type =[]\n",
    "for number in data_list:\n",
    "    type_of_list = type(data_list)\n",
    "    data_list_type.append(type_of_list)\n",
    "\n",
    "print(data_list_type)"
   ]
  },
  {
   "cell_type": "code",
   "execution_count": 144,
   "id": "35539980-2eb2-426e-be24-d1024c329313",
   "metadata": {},
   "outputs": [
    {
     "name": "stdout",
     "output_type": "stream",
     "text": [
      "[-12.5, -12.5, -12.5, 42.0]\n"
     ]
    }
   ],
   "source": [
    "# Now if I want to change type of all str items to float\n",
    "data_list = ['-12.5', 14.4, 8.1, '42']\n",
    "\n",
    "data_list_float =[]\n",
    "for number in data_list:\n",
    "    if type(number) == str:\n",
    "        float_type = float(number)\n",
    "    data_list_float.append(float_type)\n",
    "\n",
    "print(data_list_float)"
   ]
  }
 ],
 "metadata": {
  "kernelspec": {
   "display_name": "Python [conda env:base] *",
   "language": "python",
   "name": "conda-base-py"
  },
  "language_info": {
   "codemirror_mode": {
    "name": "ipython",
    "version": 3
   },
   "file_extension": ".py",
   "mimetype": "text/x-python",
   "name": "python",
   "nbconvert_exporter": "python",
   "pygments_lexer": "ipython3",
   "version": "3.12.7"
  }
 },
 "nbformat": 4,
 "nbformat_minor": 5
}
